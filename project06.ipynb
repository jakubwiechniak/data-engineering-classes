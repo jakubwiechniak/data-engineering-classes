{
 "cells": [
  {
   "cell_type": "code",
   "execution_count": 1,
   "id": "initial_id",
   "metadata": {
    "ExecuteTime": {
     "end_time": "2024-06-13T09:50:01.474890Z",
     "start_time": "2024-06-13T09:49:45.855333Z"
    },
    "collapsed": true,
    "jupyter": {
     "outputs_hidden": true
    }
   },
   "outputs": [
    {
     "data": {
      "text/html": [
       "<div>\n",
       "<style scoped>\n",
       "    .dataframe tbody tr th:only-of-type {\n",
       "        vertical-align: middle;\n",
       "    }\n",
       "\n",
       "    .dataframe tbody tr th {\n",
       "        vertical-align: top;\n",
       "    }\n",
       "\n",
       "    .dataframe thead th {\n",
       "        text-align: right;\n",
       "    }\n",
       "</style>\n",
       "<table border=\"1\" class=\"dataframe\">\n",
       "  <thead>\n",
       "    <tr style=\"text-align: right;\">\n",
       "      <th></th>\n",
       "      <th>0</th>\n",
       "    </tr>\n",
       "  </thead>\n",
       "  <tbody>\n",
       "    <tr>\n",
       "      <th>0</th>\n",
       "      <td>50000000</td>\n",
       "    </tr>\n",
       "  </tbody>\n",
       "</table>\n",
       "</div>"
      ],
      "text/plain": [
       "          0\n",
       "0  50000000"
      ]
     },
     "execution_count": 1,
     "metadata": {},
     "output_type": "execute_result"
    }
   ],
   "source": [
    "import sqlite3\n",
    "import pandas as pd\n",
    "con = sqlite3.connect(\"proj6_readings.sqlite\")\n",
    "cur = con.cursor()\n",
    "result = cur.execute('SELECT count(*) from readings;').fetchall()\n",
    "df = pd.DataFrame(result)\n",
    "df"
   ]
  },
  {
   "cell_type": "code",
   "execution_count": 2,
   "id": "f952d394b017c445",
   "metadata": {
    "ExecuteTime": {
     "end_time": "2024-06-13T09:50:17.196621Z",
     "start_time": "2024-06-13T09:50:01.479446Z"
    },
    "collapsed": false
   },
   "outputs": [
    {
     "data": {
      "text/html": [
       "<div>\n",
       "<style scoped>\n",
       "    .dataframe tbody tr th:only-of-type {\n",
       "        vertical-align: middle;\n",
       "    }\n",
       "\n",
       "    .dataframe tbody tr th {\n",
       "        vertical-align: top;\n",
       "    }\n",
       "\n",
       "    .dataframe thead th {\n",
       "        text-align: right;\n",
       "    }\n",
       "</style>\n",
       "<table border=\"1\" class=\"dataframe\">\n",
       "  <thead>\n",
       "    <tr style=\"text-align: right;\">\n",
       "      <th></th>\n",
       "      <th>0</th>\n",
       "    </tr>\n",
       "  </thead>\n",
       "  <tbody>\n",
       "    <tr>\n",
       "      <th>0</th>\n",
       "      <td>146</td>\n",
       "    </tr>\n",
       "  </tbody>\n",
       "</table>\n",
       "</div>"
      ],
      "text/plain": [
       "     0\n",
       "0  146"
      ]
     },
     "execution_count": 2,
     "metadata": {},
     "output_type": "execute_result"
    }
   ],
   "source": [
    "result = cur.execute('SELECT count(DISTINCT detector_id) from readings;').fetchall()\n",
    "df = pd.DataFrame(result)\n",
    "df.to_pickle(\"proj6_ex01_detector_no.pkl\")\n",
    "df"
   ]
  },
  {
   "cell_type": "code",
   "execution_count": 3,
   "id": "52d1c64d0d14aa42",
   "metadata": {
    "ExecuteTime": {
     "end_time": "2024-06-13T09:51:40.988734Z",
     "start_time": "2024-06-13T09:50:17.199664Z"
    },
    "collapsed": false
   },
   "outputs": [
    {
     "data": {
      "text/html": [
       "<div>\n",
       "<style scoped>\n",
       "    .dataframe tbody tr th:only-of-type {\n",
       "        vertical-align: middle;\n",
       "    }\n",
       "\n",
       "    .dataframe tbody tr th {\n",
       "        vertical-align: top;\n",
       "    }\n",
       "\n",
       "    .dataframe thead th {\n",
       "        text-align: right;\n",
       "    }\n",
       "</style>\n",
       "<table border=\"1\" class=\"dataframe\">\n",
       "  <thead>\n",
       "    <tr style=\"text-align: right;\">\n",
       "      <th></th>\n",
       "      <th>0</th>\n",
       "      <th>1</th>\n",
       "      <th>2</th>\n",
       "      <th>3</th>\n",
       "    </tr>\n",
       "  </thead>\n",
       "  <tbody>\n",
       "    <tr>\n",
       "      <th>0</th>\n",
       "      <td>1</td>\n",
       "      <td>357214</td>\n",
       "      <td>2015-06-22 23:58:31</td>\n",
       "      <td>2016-07-12 23:57:01</td>\n",
       "    </tr>\n",
       "    <tr>\n",
       "      <th>1</th>\n",
       "      <td>2</td>\n",
       "      <td>357201</td>\n",
       "      <td>2015-06-22 23:58:31</td>\n",
       "      <td>2016-07-12 23:57:01</td>\n",
       "    </tr>\n",
       "    <tr>\n",
       "      <th>2</th>\n",
       "      <td>3</td>\n",
       "      <td>356755</td>\n",
       "      <td>2015-06-22 23:58:31</td>\n",
       "      <td>2016-07-12 23:57:01</td>\n",
       "    </tr>\n",
       "    <tr>\n",
       "      <th>3</th>\n",
       "      <td>4</td>\n",
       "      <td>357213</td>\n",
       "      <td>2015-06-22 23:58:31</td>\n",
       "      <td>2016-07-12 23:57:01</td>\n",
       "    </tr>\n",
       "    <tr>\n",
       "      <th>4</th>\n",
       "      <td>5</td>\n",
       "      <td>357204</td>\n",
       "      <td>2015-06-22 23:58:31</td>\n",
       "      <td>2016-07-12 23:57:01</td>\n",
       "    </tr>\n",
       "    <tr>\n",
       "      <th>...</th>\n",
       "      <td>...</td>\n",
       "      <td>...</td>\n",
       "      <td>...</td>\n",
       "      <td>...</td>\n",
       "    </tr>\n",
       "    <tr>\n",
       "      <th>141</th>\n",
       "      <td>142</td>\n",
       "      <td>352730</td>\n",
       "      <td>2015-06-22 23:58:31</td>\n",
       "      <td>2016-07-12 23:57:01</td>\n",
       "    </tr>\n",
       "    <tr>\n",
       "      <th>142</th>\n",
       "      <td>143</td>\n",
       "      <td>352729</td>\n",
       "      <td>2015-06-22 23:58:31</td>\n",
       "      <td>2016-07-12 23:57:01</td>\n",
       "    </tr>\n",
       "    <tr>\n",
       "      <th>143</th>\n",
       "      <td>144</td>\n",
       "      <td>352730</td>\n",
       "      <td>2015-06-22 23:58:31</td>\n",
       "      <td>2016-07-12 23:57:01</td>\n",
       "    </tr>\n",
       "    <tr>\n",
       "      <th>144</th>\n",
       "      <td>145</td>\n",
       "      <td>352730</td>\n",
       "      <td>2015-06-22 23:58:31</td>\n",
       "      <td>2016-07-12 23:57:01</td>\n",
       "    </tr>\n",
       "    <tr>\n",
       "      <th>145</th>\n",
       "      <td>146</td>\n",
       "      <td>147666</td>\n",
       "      <td>2015-06-22 23:58:31</td>\n",
       "      <td>2015-12-01 04:21:01</td>\n",
       "    </tr>\n",
       "  </tbody>\n",
       "</table>\n",
       "<p>146 rows × 4 columns</p>\n",
       "</div>"
      ],
      "text/plain": [
       "       0       1                    2                    3\n",
       "0      1  357214  2015-06-22 23:58:31  2016-07-12 23:57:01\n",
       "1      2  357201  2015-06-22 23:58:31  2016-07-12 23:57:01\n",
       "2      3  356755  2015-06-22 23:58:31  2016-07-12 23:57:01\n",
       "3      4  357213  2015-06-22 23:58:31  2016-07-12 23:57:01\n",
       "4      5  357204  2015-06-22 23:58:31  2016-07-12 23:57:01\n",
       "..   ...     ...                  ...                  ...\n",
       "141  142  352730  2015-06-22 23:58:31  2016-07-12 23:57:01\n",
       "142  143  352729  2015-06-22 23:58:31  2016-07-12 23:57:01\n",
       "143  144  352730  2015-06-22 23:58:31  2016-07-12 23:57:01\n",
       "144  145  352730  2015-06-22 23:58:31  2016-07-12 23:57:01\n",
       "145  146  147666  2015-06-22 23:58:31  2015-12-01 04:21:01\n",
       "\n",
       "[146 rows x 4 columns]"
      ]
     },
     "execution_count": 3,
     "metadata": {},
     "output_type": "execute_result"
    }
   ],
   "source": [
    "result = cur.execute('SELECT detector_id, count(count), min(starttime), max(starttime) FROM readings WHERE count IS NOT NULL GROUP BY detector_id;').fetchall()\n",
    "df = pd.DataFrame(result)\n",
    "df.rename(columns={'0': 'detector_id', '1': 'count(count)', '2': 'min(starttime)', '3': 'max(starttime)'})\n",
    "df.to_pickle(\"proj6_ex02_detector_stat.pkl\")\n",
    "df\n"
   ]
  },
  {
   "cell_type": "code",
   "execution_count": 4,
   "id": "8aa34939d81cba6d",
   "metadata": {
    "ExecuteTime": {
     "end_time": "2024-06-13T09:51:56.964051Z",
     "start_time": "2024-06-13T09:51:40.990984Z"
    },
    "collapsed": false
   },
   "outputs": [
    {
     "data": {
      "text/html": [
       "<div>\n",
       "<style scoped>\n",
       "    .dataframe tbody tr th:only-of-type {\n",
       "        vertical-align: middle;\n",
       "    }\n",
       "\n",
       "    .dataframe tbody tr th {\n",
       "        vertical-align: top;\n",
       "    }\n",
       "\n",
       "    .dataframe thead th {\n",
       "        text-align: right;\n",
       "    }\n",
       "</style>\n",
       "<table border=\"1\" class=\"dataframe\">\n",
       "  <thead>\n",
       "    <tr style=\"text-align: right;\">\n",
       "      <th></th>\n",
       "      <th>0</th>\n",
       "      <th>1</th>\n",
       "      <th>2</th>\n",
       "    </tr>\n",
       "  </thead>\n",
       "  <tbody>\n",
       "    <tr>\n",
       "      <th>0</th>\n",
       "      <td>146</td>\n",
       "      <td>1</td>\n",
       "      <td>NaN</td>\n",
       "    </tr>\n",
       "    <tr>\n",
       "      <th>1</th>\n",
       "      <td>146</td>\n",
       "      <td>0</td>\n",
       "      <td>1.0</td>\n",
       "    </tr>\n",
       "    <tr>\n",
       "      <th>2</th>\n",
       "      <td>146</td>\n",
       "      <td>0</td>\n",
       "      <td>0.0</td>\n",
       "    </tr>\n",
       "    <tr>\n",
       "      <th>3</th>\n",
       "      <td>146</td>\n",
       "      <td>0</td>\n",
       "      <td>0.0</td>\n",
       "    </tr>\n",
       "    <tr>\n",
       "      <th>4</th>\n",
       "      <td>146</td>\n",
       "      <td>0</td>\n",
       "      <td>0.0</td>\n",
       "    </tr>\n",
       "    <tr>\n",
       "      <th>...</th>\n",
       "      <td>...</td>\n",
       "      <td>...</td>\n",
       "      <td>...</td>\n",
       "    </tr>\n",
       "    <tr>\n",
       "      <th>495</th>\n",
       "      <td>146</td>\n",
       "      <td>0</td>\n",
       "      <td>0.0</td>\n",
       "    </tr>\n",
       "    <tr>\n",
       "      <th>496</th>\n",
       "      <td>146</td>\n",
       "      <td>2</td>\n",
       "      <td>0.0</td>\n",
       "    </tr>\n",
       "    <tr>\n",
       "      <th>497</th>\n",
       "      <td>146</td>\n",
       "      <td>2</td>\n",
       "      <td>2.0</td>\n",
       "    </tr>\n",
       "    <tr>\n",
       "      <th>498</th>\n",
       "      <td>146</td>\n",
       "      <td>2</td>\n",
       "      <td>2.0</td>\n",
       "    </tr>\n",
       "    <tr>\n",
       "      <th>499</th>\n",
       "      <td>146</td>\n",
       "      <td>2</td>\n",
       "      <td>2.0</td>\n",
       "    </tr>\n",
       "  </tbody>\n",
       "</table>\n",
       "<p>500 rows × 3 columns</p>\n",
       "</div>"
      ],
      "text/plain": [
       "       0  1    2\n",
       "0    146  1  NaN\n",
       "1    146  0  1.0\n",
       "2    146  0  0.0\n",
       "3    146  0  0.0\n",
       "4    146  0  0.0\n",
       "..   ... ..  ...\n",
       "495  146  0  0.0\n",
       "496  146  2  0.0\n",
       "497  146  2  2.0\n",
       "498  146  2  2.0\n",
       "499  146  2  2.0\n",
       "\n",
       "[500 rows x 3 columns]"
      ]
     },
     "execution_count": 4,
     "metadata": {},
     "output_type": "execute_result"
    }
   ],
   "source": [
    "result = cur.execute(\"\"\"WITH readings2 AS (SELECT detector_id, count, starttime,\n",
    "        LAG(count) OVER (PARTITION BY detector_id ORDER BY starttime) AS previous_count\n",
    "    FROM readings\n",
    "    WHERE detector_id = 146)\n",
    "SELECT\n",
    "    detector_id,\n",
    "    count,\n",
    "    previous_count\n",
    "FROM readings2\n",
    "LIMIT 500;\"\"\").fetchall()\n",
    "df = pd.DataFrame(result)\n",
    "df.rename(columns={0:'detector_id', 1:'count', 2:'prev_count'})\n",
    "df.to_pickle(\"proj6_ex03_detector_146_lag.pkl\")\n",
    "df"
   ]
  },
  {
   "cell_type": "code",
   "execution_count": 8,
   "id": "d35b248e16600696",
   "metadata": {
    "collapsed": false,
    "ExecuteTime": {
     "end_time": "2024-06-13T10:02:43.399851Z",
     "start_time": "2024-06-13T10:02:28.648616Z"
    }
   },
   "outputs": [
    {
     "data": {
      "text/plain": "       0  1   2\n0    146  1   2\n1    146  0   2\n2    146  0   2\n3    146  0   2\n4    146  0   2\n..   ... ..  ..\n495  146  0  20\n496  146  2  22\n497  146  2  21\n498  146  2  21\n499  146  2  21\n\n[500 rows x 3 columns]",
      "text/html": "<div>\n<style scoped>\n    .dataframe tbody tr th:only-of-type {\n        vertical-align: middle;\n    }\n\n    .dataframe tbody tr th {\n        vertical-align: top;\n    }\n\n    .dataframe thead th {\n        text-align: right;\n    }\n</style>\n<table border=\"1\" class=\"dataframe\">\n  <thead>\n    <tr style=\"text-align: right;\">\n      <th></th>\n      <th>0</th>\n      <th>1</th>\n      <th>2</th>\n    </tr>\n  </thead>\n  <tbody>\n    <tr>\n      <th>0</th>\n      <td>146</td>\n      <td>1</td>\n      <td>2</td>\n    </tr>\n    <tr>\n      <th>1</th>\n      <td>146</td>\n      <td>0</td>\n      <td>2</td>\n    </tr>\n    <tr>\n      <th>2</th>\n      <td>146</td>\n      <td>0</td>\n      <td>2</td>\n    </tr>\n    <tr>\n      <th>3</th>\n      <td>146</td>\n      <td>0</td>\n      <td>2</td>\n    </tr>\n    <tr>\n      <th>4</th>\n      <td>146</td>\n      <td>0</td>\n      <td>2</td>\n    </tr>\n    <tr>\n      <th>...</th>\n      <td>...</td>\n      <td>...</td>\n      <td>...</td>\n    </tr>\n    <tr>\n      <th>495</th>\n      <td>146</td>\n      <td>0</td>\n      <td>20</td>\n    </tr>\n    <tr>\n      <th>496</th>\n      <td>146</td>\n      <td>2</td>\n      <td>22</td>\n    </tr>\n    <tr>\n      <th>497</th>\n      <td>146</td>\n      <td>2</td>\n      <td>21</td>\n    </tr>\n    <tr>\n      <th>498</th>\n      <td>146</td>\n      <td>2</td>\n      <td>21</td>\n    </tr>\n    <tr>\n      <th>499</th>\n      <td>146</td>\n      <td>2</td>\n      <td>21</td>\n    </tr>\n  </tbody>\n</table>\n<p>500 rows × 3 columns</p>\n</div>"
     },
     "execution_count": 8,
     "metadata": {},
     "output_type": "execute_result"
    }
   ],
   "source": [
    "result = cur.execute(\"\"\"WITH readings2 AS (SELECT detector_id, count, starttime,\n",
    "        SUM(count) OVER ( PARTITION BY detector_id ORDER BY starttime ROWS BETWEEN CURRENT ROW AND 10 FOLLOWING) AS window_sum\n",
    "    FROM readings\n",
    "    WHERE detector_id = 146\n",
    ")\n",
    "SELECT\n",
    "    detector_id,\n",
    "    count,\n",
    "    window_sum\n",
    "FROM readings2\n",
    "LIMIT 500;\"\"\").fetchall()\n",
    "df = pd.DataFrame(result)\n",
    "df.to_pickle(\"proj6_ex04_detector_146_sum.pkl\")\n",
    "df"
   ]
  },
  {
   "cell_type": "code",
   "execution_count": 5,
   "id": "b3232887b28d1adb",
   "metadata": {
    "ExecuteTime": {
     "end_time": "2024-06-13T09:52:13.161008Z",
     "start_time": "2024-06-13T09:52:13.157023Z"
    },
    "collapsed": false
   },
   "outputs": [],
   "source": []
  }
 ],
 "metadata": {
  "kernelspec": {
   "display_name": "Python 3 (ipykernel)",
   "language": "python",
   "name": "python3"
  },
  "language_info": {
   "codemirror_mode": {
    "name": "ipython",
    "version": 3
   },
   "file_extension": ".py",
   "mimetype": "text/x-python",
   "name": "python",
   "nbconvert_exporter": "python",
   "pygments_lexer": "ipython3",
   "version": "3.12.0"
  }
 },
 "nbformat": 4,
 "nbformat_minor": 5
}
