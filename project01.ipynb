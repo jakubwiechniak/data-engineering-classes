{
 "cells": [
  {
   "cell_type": "code",
   "execution_count": 70,
   "id": "initial_id",
   "metadata": {
    "collapsed": true,
    "jupyter": {
     "outputs_hidden": true
    },
    "ExecuteTime": {
     "end_time": "2024-03-20T19:10:30.448877Z",
     "start_time": "2024-03-20T19:10:30.424200Z"
    }
   },
   "outputs": [
    {
     "data": {
      "text/plain": "   First column                   two                    three  SOME;NAME  \\\n0      0.348554  -0.14509562920877161    -0.012336991474672475          9   \n1     -1.493853   0.12436946488785079       1.4611100361038865          4   \n2     -0.325891                   NaN     -0.42191202598625566          2   \n3     -0.506596    0.3991147675939107    -0.26502607502330217           5   \n4           NaN   -0.6913144223047157     -0.26502607502330217          2   \n5      0.527112     2.584347847701393  -0.26502607502330217XYZ          2   \n6     -1.555290               unknown      -0.7732649697439955          5   \n\n    five What is this even?        seven                eight  \n0    red               good  quarrelsome  2016-05-26 09:33:42  \n1    red                bad       doctor  2016-12-03 18:55:52  \n2    red            average        large  2016-05-15 11:49:26  \n3  green            average      muddled  2015-01-30 22:33:29  \n4   blue               good  coordinated  2015-11-20 00:15:35  \n5   blue               good     separate  2017-11-17 09:58:54  \n6  green                bad       bright  2017-05-01 10:32:41  ",
      "text/html": "<div>\n<style scoped>\n    .dataframe tbody tr th:only-of-type {\n        vertical-align: middle;\n    }\n\n    .dataframe tbody tr th {\n        vertical-align: top;\n    }\n\n    .dataframe thead th {\n        text-align: right;\n    }\n</style>\n<table border=\"1\" class=\"dataframe\">\n  <thead>\n    <tr style=\"text-align: right;\">\n      <th></th>\n      <th>First column</th>\n      <th>two</th>\n      <th>three</th>\n      <th>SOME;NAME</th>\n      <th>five</th>\n      <th>What is this even?</th>\n      <th>seven</th>\n      <th>eight</th>\n    </tr>\n  </thead>\n  <tbody>\n    <tr>\n      <th>0</th>\n      <td>0.348554</td>\n      <td>-0.14509562920877161</td>\n      <td>-0.012336991474672475</td>\n      <td>9</td>\n      <td>red</td>\n      <td>good</td>\n      <td>quarrelsome</td>\n      <td>2016-05-26 09:33:42</td>\n    </tr>\n    <tr>\n      <th>1</th>\n      <td>-1.493853</td>\n      <td>0.12436946488785079</td>\n      <td>1.4611100361038865</td>\n      <td>4</td>\n      <td>red</td>\n      <td>bad</td>\n      <td>doctor</td>\n      <td>2016-12-03 18:55:52</td>\n    </tr>\n    <tr>\n      <th>2</th>\n      <td>-0.325891</td>\n      <td>NaN</td>\n      <td>-0.42191202598625566</td>\n      <td>2</td>\n      <td>red</td>\n      <td>average</td>\n      <td>large</td>\n      <td>2016-05-15 11:49:26</td>\n    </tr>\n    <tr>\n      <th>3</th>\n      <td>-0.506596</td>\n      <td>0.3991147675939107</td>\n      <td>-0.26502607502330217</td>\n      <td>5</td>\n      <td>green</td>\n      <td>average</td>\n      <td>muddled</td>\n      <td>2015-01-30 22:33:29</td>\n    </tr>\n    <tr>\n      <th>4</th>\n      <td>NaN</td>\n      <td>-0.6913144223047157</td>\n      <td>-0.26502607502330217</td>\n      <td>2</td>\n      <td>blue</td>\n      <td>good</td>\n      <td>coordinated</td>\n      <td>2015-11-20 00:15:35</td>\n    </tr>\n    <tr>\n      <th>5</th>\n      <td>0.527112</td>\n      <td>2.584347847701393</td>\n      <td>-0.26502607502330217XYZ</td>\n      <td>2</td>\n      <td>blue</td>\n      <td>good</td>\n      <td>separate</td>\n      <td>2017-11-17 09:58:54</td>\n    </tr>\n    <tr>\n      <th>6</th>\n      <td>-1.555290</td>\n      <td>unknown</td>\n      <td>-0.7732649697439955</td>\n      <td>5</td>\n      <td>green</td>\n      <td>bad</td>\n      <td>bright</td>\n      <td>2017-05-01 10:32:41</td>\n    </tr>\n  </tbody>\n</table>\n</div>"
     },
     "execution_count": 70,
     "metadata": {},
     "output_type": "execute_result"
    }
   ],
   "source": [
    "import json\n",
    "\n",
    "import pandas as pd\n",
    "\n",
    "df = pd.read_csv(\"proj1_ex01.csv\")\n",
    "df"
   ]
  },
  {
   "cell_type": "code",
   "execution_count": 71,
   "id": "e59a0b2f3b1ed0e0",
   "metadata": {
    "collapsed": false,
    "ExecuteTime": {
     "end_time": "2024-03-20T19:10:30.466783Z",
     "start_time": "2024-03-20T19:10:30.458385Z"
    }
   },
   "outputs": [
    {
     "name": "stdout",
     "output_type": "stream",
     "text": [
      "[{'name': 'First column', 'missing': 0, 'type': 'other'}, {'name': 'two', 'missing': 0, 'type': 'other'}, {'name': 'three', 'missing': 0, 'type': 'other'}, {'name': 'SOME;NAME', 'missing': 0, 'type': 'other'}, {'name': 'five', 'missing': 0, 'type': 'other'}, {'name': 'What is this even?', 'missing': 0, 'type': 'other'}, {'name': 'seven', 'missing': 0, 'type': 'other'}, {'name': 'eight', 'missing': 0, 'type': 'other'}]\n"
     ]
    }
   ],
   "source": [
    "column_names = df.columns.tolist()\n",
    "row_number = len(df.index)\n",
    "final_array = [{\"name\": i, \"missing\": 0, \"type\": \"other\"} for i in column_names]\n",
    "print(final_array)"
   ]
  },
  {
   "cell_type": "code",
   "execution_count": 72,
   "id": "d18d4be16bb8997",
   "metadata": {
    "collapsed": false,
    "ExecuteTime": {
     "end_time": "2024-03-20T19:10:30.528192Z",
     "start_time": "2024-03-20T19:10:30.516546Z"
    }
   },
   "outputs": [
    {
     "data": {
      "text/plain": "[{'name': 'First column', 'missing': 0, 'type': 'float'},\n {'name': 'two', 'missing': 0, 'type': 'other'},\n {'name': 'three', 'missing': 0, 'type': 'other'},\n {'name': 'SOME;NAME', 'missing': 0, 'type': 'int'},\n {'name': 'five', 'missing': 0, 'type': 'other'},\n {'name': 'What is this even?', 'missing': 0, 'type': 'other'},\n {'name': 'seven', 'missing': 0, 'type': 'other'},\n {'name': 'eight', 'missing': 0, 'type': 'other'}]"
     },
     "execution_count": 72,
     "metadata": {},
     "output_type": "execute_result"
    }
   ],
   "source": [
    "import numpy as np\n",
    "for idx, el in enumerate(df.dtypes.tolist()):\n",
    "    typetoreplace = \"other\"\n",
    "    if el == np.float64:\n",
    "        typetoreplace = \"float\"\n",
    "    elif el == np.int64:\n",
    "        typetoreplace = \"int\"\n",
    "    final_array[idx][\"type\"] = typetoreplace\n",
    "\n",
    "final_array"
   ]
  },
  {
   "cell_type": "code",
   "execution_count": 73,
   "id": "3b2f4b15212889d3",
   "metadata": {
    "collapsed": false,
    "ExecuteTime": {
     "end_time": "2024-03-20T19:10:30.547290Z",
     "start_time": "2024-03-20T19:10:30.538577Z"
    }
   },
   "outputs": [
    {
     "ename": "SyntaxError",
     "evalue": "unmatched ']' (93523143.py, line 4)",
     "output_type": "error",
     "traceback": [
      "\u001B[1;36m  Cell \u001B[1;32mIn[73], line 4\u001B[1;36m\u001B[0m\n\u001B[1;33m    ]\u001B[0m\n\u001B[1;37m    ^\u001B[0m\n\u001B[1;31mSyntaxError\u001B[0m\u001B[1;31m:\u001B[0m unmatched ']'\n"
     ]
    }
   ],
   "source": [
    "empty_val_arr = df.isnull().to_numpy().astype(np.int8).sum(axis=0)\n",
    "for idx, val in enumerate(empty_val_arr):\n",
    "    final_array[idx][\"missing\"] = val/row_number\n",
    "]\n",
    "with open(\"proj1_ex01_fields.json\", \"w\") as json_file:\n",
    "    json.dump(final_array, json_file, indent=4)"
   ]
  },
  {
   "cell_type": "code",
   "execution_count": 74,
   "id": "f8652af1980f5ff2",
   "metadata": {
    "collapsed": false,
    "ExecuteTime": {
     "end_time": "2024-03-20T19:10:30.576857Z",
     "start_time": "2024-03-20T19:10:30.560333Z"
    }
   },
   "outputs": [
    {
     "name": "stdout",
     "output_type": "stream",
     "text": [
      "<class 'pandas.core.frame.DataFrame'>\n",
      "RangeIndex: 7 entries, 0 to 6\n",
      "Data columns (total 8 columns):\n",
      " #   Column              Non-Null Count  Dtype  \n",
      "---  ------              --------------  -----  \n",
      " 0   First column        6 non-null      float64\n",
      " 1   two                 6 non-null      object \n",
      " 2   three               7 non-null      object \n",
      " 3   SOME;NAME           7 non-null      int64  \n",
      " 4   five                7 non-null      object \n",
      " 5   What is this even?  7 non-null      object \n",
      " 6   seven               7 non-null      object \n",
      " 7   eight               7 non-null      object \n",
      "dtypes: float64(1), int64(1), object(6)\n",
      "memory usage: 580.0+ bytes\n"
     ]
    }
   ],
   "source": [
    "df.info()"
   ]
  },
  {
   "cell_type": "code",
   "execution_count": 75,
   "id": "16be4ba8d7d201fd",
   "metadata": {
    "collapsed": false,
    "ExecuteTime": {
     "end_time": "2024-03-20T19:10:30.668633Z",
     "start_time": "2024-03-20T19:10:30.638870Z"
    }
   },
   "outputs": [
    {
     "name": "stdout",
     "output_type": "stream",
     "text": [
      "{'First column': {'count': 6, 'mean': -0.5009940002009552, 'std': 0.12627693147707947, 'min': -1.55529041326908, '25%': -1.247038692513933, '50%': -0.4162433767179556, '75%': 0.1799426841401469, 'max': 0.5271122588523375}, 'two': {'count': 6, 'unique': 6, 'top': '-0.14509562920877161', 'freq': 1}, 'three': {'count': 7, 'unique': 7, 'top': '-0.012336991474672475', 'freq': 1}, 'SOME;NAME': {'count': 7, 'mean': 4.142857142857143, 'std': 0.3635480058744867, 'min': 2, '25%': 2.0, '50%': 4.0, '75%': 5.0, 'max': 9}, 'five': {'count': 7, 'unique': 3, 'top': 'red', 'freq': 3}, 'What is this even?': {'count': 7, 'unique': 3, 'top': 'good', 'freq': 3}, 'seven': {'count': 7, 'unique': 7, 'top': 'quarrelsome', 'freq': 1}, 'eight': {'count': 7, 'unique': 7, 'top': '2016-05-26 09:33:42', 'freq': 1}}\n"
     ]
    }
   ],
   "source": [
    "final_object = {}\n",
    "class NpEncoder(json.JSONEncoder):\n",
    "    def default(self, obj):\n",
    "        if isinstance(obj, np.integer):\n",
    "            return int(obj)\n",
    "        if isinstance(obj, np.floating):\n",
    "            return float(obj)\n",
    "        return super(NpEncoder, self).default(obj)\n",
    "    \n",
    "from collections import Counter\n",
    "for idx, i in enumerate(column_names):\n",
    "    if [j for j in final_array if j['name']==i][0]['type'] == 'float' or [j for j in final_array if j['name']==i][0]['type'] == 'int':\n",
    "        final_object[i] = {\n",
    "            \"count\": row_number - empty_val_arr[idx],\n",
    "            \"mean\": df[i].sum() / (row_number - empty_val_arr[idx]),\n",
    "            \"std\": df[i].std() / row_number,\n",
    "            \"min\": df[i].min(),\n",
    "            \"25%\": df[i].quantile(0.25),\n",
    "            \"50%\": df[i].quantile(),\n",
    "            \"75%\": df[i].quantile(0.75),\n",
    "            \"max\": df[i].max()\n",
    "        }\n",
    "    else:\n",
    "        final_object[i] = {\n",
    "            \"count\": df[i].count(),\n",
    "            \"unique\": df[i].nunique(),\n",
    "            \"top\": df[i].value_counts().index[0],\n",
    "            \"freq\": df[i].value_counts().max()\n",
    "        }\n",
    "print(final_object)\n",
    "with open(\"proj1_ex02_stats.json\", \"w\") as json_file:\n",
    "    json.dump(final_object, json_file, indent=4, cls=NpEncoder)"
   ]
  },
  {
   "cell_type": "code",
   "execution_count": 76,
   "id": "af4143ddb89fed35",
   "metadata": {
    "collapsed": false,
    "ExecuteTime": {
     "end_time": "2024-03-20T19:10:30.837658Z",
     "start_time": "2024-03-20T19:10:30.820313Z"
    }
   },
   "outputs": [
    {
     "name": "stdout",
     "output_type": "stream",
     "text": [
      "<class 'pandas.core.frame.DataFrame'>\n",
      "RangeIndex: 7 entries, 0 to 6\n",
      "Data columns (total 8 columns):\n",
      " #   Column             Non-Null Count  Dtype  \n",
      "---  ------             --------------  -----  \n",
      " 0   first_column       6 non-null      float64\n",
      " 1   two                6 non-null      object \n",
      " 2   three              7 non-null      object \n",
      " 3   somename           7 non-null      int64  \n",
      " 4   five               7 non-null      object \n",
      " 5   what_is_this_even  7 non-null      object \n",
      " 6   seven              7 non-null      object \n",
      " 7   eight              7 non-null      object \n",
      "dtypes: float64(1), int64(1), object(6)\n",
      "memory usage: 580.0+ bytes\n",
      "None\n"
     ]
    }
   ],
   "source": [
    "import re\n",
    "df.rename(columns=lambda x: re.sub(r'[^a-zA-Z0-9_ ]', '', x).lower().replace(' ', '_'), inplace=True)\n",
    "print(df.info())\n",
    "df.to_csv('proj1_ex03_columns.csv', index=False)"
   ]
  },
  {
   "cell_type": "code",
   "execution_count": 77,
   "id": "2c6317f9514b8f43",
   "metadata": {
    "collapsed": false,
    "ExecuteTime": {
     "end_time": "2024-03-20T19:10:30.942230Z",
     "start_time": "2024-03-20T19:10:30.896819Z"
    }
   },
   "outputs": [],
   "source": [
    "df.to_excel('proj1_ex04_excel.xlsx', sheet_name='Arkusz1', index=False)\n",
    "df.to_json('proj1_ex04_json.json', orient='records', indent=4)\n",
    "df.to_pickle('proj1_ex04_pickle.pkl')"
   ]
  },
  {
   "cell_type": "code",
   "execution_count": 78,
   "id": "30b581188a0aeb3",
   "metadata": {
    "collapsed": false,
    "ExecuteTime": {
     "end_time": "2024-03-20T19:10:30.976886Z",
     "start_time": "2024-03-20T19:10:30.963766Z"
    }
   },
   "outputs": [],
   "source": [
    "df_pickle = pd.read_pickle('proj1_ex05.pkl')\n",
    "\n",
    "df_pickle.iloc[:, 1:3][df_pickle.index.str.startswith('v')].mask(df_pickle.isnull(), \"\").to_markdown('proj1_ex05_table.md')"
   ]
  },
  {
   "cell_type": "code",
   "execution_count": 79,
   "id": "db3d5126b761a13a",
   "metadata": {
    "collapsed": false,
    "ExecuteTime": {
     "end_time": "2024-03-20T19:10:30.993154Z",
     "start_time": "2024-03-20T19:10:30.983051Z"
    }
   },
   "outputs": [],
   "source": [
    "with open('proj1_ex06.json', 'r') as json_file:\n",
    "    json_data = json.load(json_file)\n",
    "\n",
    "df_json = pd.json_normalize(json_data, sep='.')\n",
    "df_json.to_pickle('proj1_ex06_pickle.pkl')"
   ]
  }
 ],
 "metadata": {
  "kernelspec": {
   "display_name": "Python 3 (ipykernel)",
   "language": "python",
   "name": "python3"
  },
  "language_info": {
   "codemirror_mode": {
    "name": "ipython",
    "version": 3
   },
   "file_extension": ".py",
   "mimetype": "text/x-python",
   "name": "python",
   "nbconvert_exporter": "python",
   "pygments_lexer": "ipython3",
   "version": "3.12.0"
  }
 },
 "nbformat": 4,
 "nbformat_minor": 5
}
