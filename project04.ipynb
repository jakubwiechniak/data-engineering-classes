{
 "cells": [
  {
   "cell_type": "code",
   "execution_count": 1,
   "id": "initial_id",
   "metadata": {
    "collapsed": true,
    "jupyter": {
     "outputs_hidden": true
    },
    "ExecuteTime": {
     "end_time": "2024-05-09T17:14:35.073059Z",
     "start_time": "2024-05-09T17:14:32.558116Z"
    }
   },
   "outputs": [
    {
     "name": "stdout",
     "output_type": "stream",
     "text": [
      "{None, 'touches', 'covered_by', 'crosses', 'contains_properly', 'intersects', 'covers', 'within', 'contains', 'overlaps'}\n"
     ]
    }
   ],
   "source": [
    "\n",
    "import json\n",
    "import geopandas as gpd\n",
    "\n",
    "with open('proj4_params.json', 'r') as f:\n",
    "    json_data = json.load(f)\n",
    "    \n",
    "points = gpd.read_file('proj4_points.geojson')\n",
    "points = points.to_crs(epsg=2180)\n",
    "print(points.sindex.valid_query_predicates)"
   ]
  },
  {
   "cell_type": "code",
   "execution_count": 2,
   "id": "14c1b9c49c067acc",
   "metadata": {
    "collapsed": false,
    "ExecuteTime": {
     "end_time": "2024-05-09T17:14:35.287818Z",
     "start_time": "2024-05-09T17:14:35.074174Z"
    }
   },
   "outputs": [],
   "source": [
    "points_with_buffer = points.buffer(100)\n",
    "points_with_buffer = gpd.GeoDataFrame(geometry=points_with_buffer, crs=points.crs)\n",
    "df_joined = gpd.sjoin(points, points_with_buffer, how='inner', predicate='intersects')"
   ]
  },
  {
   "cell_type": "code",
   "execution_count": 3,
   "id": "9cf778400efa1935",
   "metadata": {
    "collapsed": false,
    "ExecuteTime": {
     "end_time": "2024-05-09T17:14:35.304849Z",
     "start_time": "2024-05-09T17:14:35.287818Z"
    }
   },
   "outputs": [
    {
     "name": "stdout",
     "output_type": "stream",
     "text": [
      "      lamp_id  count\n",
      "2547     5907     16\n",
      "2561     5908     16\n",
      "2316     5909     17\n",
      "1733     5910     20\n",
      "3468     5911      9\n",
      "...       ...    ...\n",
      "2635     9644     16\n",
      "2640     9645     16\n",
      "2725     9646     15\n",
      "3283     9647     12\n",
      "2001     9648     19\n",
      "\n",
      "[3742 rows x 2 columns]\n"
     ]
    }
   ],
   "source": [
    "lamp_counts = df_joined[json_data['id_column']].value_counts().reset_index()\n",
    "lamp_counts.columns = [json_data['id_column'], 'count']\n",
    "lamp_counts = lamp_counts.sort_values(by=json_data['id_column'], ascending=True)\n",
    "lamp_counts.to_csv('proj4_ex01_counts.csv', index=False)\n",
    "print(lamp_counts)"
   ]
  },
  {
   "cell_type": "code",
   "execution_count": 4,
   "id": "3f19745bf2077e3b",
   "metadata": {
    "collapsed": false,
    "ExecuteTime": {
     "end_time": "2024-05-09T17:14:35.375354Z",
     "start_time": "2024-05-09T17:14:35.304849Z"
    }
   },
   "outputs": [
    {
     "name": "stdout",
     "output_type": "stream",
     "text": [
      "      lamp_id        lat        lon\n",
      "0        5907  50.074043  19.899135\n",
      "1        5908  50.075053  19.891393\n",
      "2        5909  50.073055  19.898210\n",
      "3        5910  50.073520  19.888718\n",
      "4        5911  50.073280  19.891677\n",
      "...       ...        ...        ...\n",
      "3737     9644  50.073446  19.934272\n",
      "3738     9645  50.070489  19.935150\n",
      "3739     9646  50.070320  19.935347\n",
      "3740     9647  50.070155  19.935541\n",
      "3741     9648  50.067359  19.934254\n",
      "\n",
      "[3742 rows x 3 columns]\n"
     ]
    }
   ],
   "source": [
    "import shapely\n",
    "points_copy = points.copy()\n",
    "points_copy = points_copy.to_crs(epsg=4326)\n",
    "points_copy.geometry = shapely.set_precision(points_copy.geometry, grid_size=0.0000001)\n",
    "points_copy['lat'] = points_copy['geometry'].apply(lambda p: p.y)\n",
    "points_copy['lon'] = points_copy['geometry'].apply(lambda p: p.x)\n",
    "extracted_data = points_copy[[json_data['id_column'], 'lat', 'lon']]\n",
    "print(extracted_data)\n",
    "extracted_data.to_csv('proj4_ex01_coords.csv', index=False)"
   ]
  },
  {
   "cell_type": "code",
   "execution_count": 5,
   "id": "9b4f1b81a21dd157",
   "metadata": {
    "collapsed": false,
    "ExecuteTime": {
     "end_time": "2024-05-09T17:14:54.610263Z",
     "start_time": "2024-05-09T17:14:35.376369Z"
    }
   },
   "outputs": [
    {
     "name": "stdout",
     "output_type": "stream",
     "text": [
      "C:\\Users\\wiech\\AppData\\Local\\Temp\\pyrosm\\Cracow.osm.pbf\n"
     ]
    },
    {
     "name": "stderr",
     "output_type": "stream",
     "text": [
      "C:\\Users\\wiech\\PycharmProjects\\dataEngineering\\.venv\\Lib\\site-packages\\pyrosm\\networks.py:37: FutureWarning: ChainedAssignmentError: behaviour will change in pandas 3.0!\n",
      "You are setting values through chained assignment. Currently this works in certain cases, but when using Copy-on-Write (which will become the default behaviour in pandas 3.0) this will never work to update the original DataFrame or Series, because the intermediate object on which we are setting values will behave as a copy.\n",
      "A typical example is when you are setting values in a column of a DataFrame, like:\n",
      "\n",
      "df[\"col\"][row_indexer] = value\n",
      "\n",
      "Use `df.loc[row_indexer, \"col\"] = values` instead, to perform the assignment in a single step and ensure this keeps updating the original `df`.\n",
      "\n",
      "See the caveats in the documentation: https://pandas.pydata.org/pandas-docs/stable/user_guide/indexing.html#returning-a-view-versus-a-copy\n",
      "\n",
      "  edges, nodes = prepare_geodataframe(\n"
     ]
    }
   ],
   "source": [
    "import pyrosm\n",
    "from shapely.ops import linemerge\n",
    "fp = pyrosm.get_data(json_data['city'])\n",
    "print(fp)\n",
    "osm = pyrosm.OSM(fp)\n",
    "gdf_driving = osm.get_network(network_type=\"driving\")\n",
    "gdf_driving = gdf_driving[gdf_driving['highway'] == \"tertiary\"].copy()\n",
    "gdf_driving.loc[:, 'geometry'] = gdf_driving['geometry'].apply(lambda geom: linemerge(geom))\n",
    "#print(gdf_driving)"
   ]
  },
  {
   "cell_type": "code",
   "execution_count": 6,
   "id": "de21033b6104d29c",
   "metadata": {
    "collapsed": false,
    "ExecuteTime": {
     "end_time": "2024-05-09T17:14:55.008212Z",
     "start_time": "2024-05-09T17:14:54.611275Z"
    }
   },
   "outputs": [
    {
     "name": "stdout",
     "output_type": "stream",
     "text": [
      "           osm_id                      name  \\\n",
      "1         2954556       Stefana Żeromskiego   \n",
      "17        5095912                 Borkowska   \n",
      "20        5095978             Józefa Dietla   \n",
      "25        6230457    Rondo Stanisława Barei   \n",
      "31        7953786              Aleja 3 Maja   \n",
      "...           ...                       ...   \n",
      "72698  1268638329            Leonida Teligi   \n",
      "73052  1272158332  Mieczysławy Ćwiklińskiej   \n",
      "73053  1272158333  Mieczysławy Ćwiklińskiej   \n",
      "73054  1272158365  Mieczysławy Ćwiklińskiej   \n",
      "73093  1272734950                  Zdrojowa   \n",
      "\n",
      "                                                geometry  \n",
      "1      LINESTRING (20.03607 50.07940, 20.03613 50.079...  \n",
      "17     LINESTRING (19.90506 50.00710, 19.90516 50.007...  \n",
      "20     LINESTRING (19.93562 50.04996, 19.93579 50.050...  \n",
      "25     LINESTRING (19.97368 50.08862, 19.97375 50.088...  \n",
      "31     LINESTRING (19.92447 50.05924, 19.92434 50.059...  \n",
      "...                                                  ...  \n",
      "72698  LINESTRING (20.00161 50.01518, 20.00124 50.014...  \n",
      "73052  LINESTRING (20.02235 50.01524, 20.02254 50.015...  \n",
      "73053  LINESTRING (20.02123 50.01545, 20.02148 50.01540)  \n",
      "73054  LINESTRING (20.01999 50.01569, 20.02036 50.015...  \n",
      "73093  LINESTRING (19.92025 49.96205, 19.91987 49.961...  \n",
      "\n",
      "[3155 rows x 3 columns]\n"
     ]
    }
   ],
   "source": [
    "structured_gdf = gdf_driving[['id', 'name', 'geometry']].copy()\n",
    "structured_gdf.rename(columns={'id': 'osm_id'}, inplace=True)\n",
    "structured_gdf.head(50)\n",
    "print(structured_gdf)\n",
    "structured_gdf.to_file('proj4_ex02_roads.geojson', driver='GeoJSON')"
   ]
  },
  {
   "cell_type": "code",
   "execution_count": 7,
   "id": "2f94c3183e7b8505",
   "metadata": {
    "collapsed": false,
    "ExecuteTime": {
     "end_time": "2024-05-09T17:14:55.122031Z",
     "start_time": "2024-05-09T17:14:55.008719Z"
    }
   },
   "outputs": [],
   "source": [
    "points_copy2 = points.copy()\n",
    "gdf_driving_copy = gdf_driving.copy()\n",
    "gdf_driving_copy = gdf_driving_copy.to_crs(points.crs)\n",
    "gdf_driving_buffered = gdf_driving_copy.buffer(50, cap_style=2)\n",
    "points_copy2 = points_copy2.to_crs(points.crs)\n",
    "road_lamp_joined = gpd.sjoin(gdf_driving_copy.set_geometry(gdf_driving_buffered), points_copy2)\n",
    "road_lamp_joined = road_lamp_joined.groupby('name').size().reset_index(name='point_count')\n",
    "lamp_filtered = road_lamp_joined[road_lamp_joined['point_count'] > 0]\n",
    "lamp_filtered = lamp_filtered.groupby('name')['point_count'].sum().reset_index()\n",
    "lamp_filtered.columns = ['name', 'point_count']\n",
    "lamp_filtered.head(50)\n",
    "lamp_filtered.to_csv('proj4_ex03_streets_points.csv', index=False)"
   ]
  },
  {
   "cell_type": "code",
   "execution_count": 8,
   "id": "d8ba91799a872d8",
   "metadata": {
    "collapsed": false,
    "ExecuteTime": {
     "end_time": "2024-05-09T17:14:56.022203Z",
     "start_time": "2024-05-09T17:14:55.122031Z"
    }
   },
   "outputs": [
    {
     "data": {
      "text/plain": "<Figure size 640x480 with 1 Axes>",
      "image/png": "[encoded data removed]"
     },
     "metadata": {},
     "output_type": "display_data"
    }
   ],
   "source": [
    "countries = gpd.read_file('proj4_countries.geojson')\n",
    "countries = countries.to_crs(epsg=3857)\n",
    "countries['geometry'] = countries['geometry'].boundary\n",
    "countries.plot()\n",
    "countries.to_pickle('proj4_ex04_gdf.pkl')"
   ]
  },
  {
   "cell_type": "code",
   "execution_count": 9,
   "id": "7a85b1991b10bdf4",
   "metadata": {
    "collapsed": false,
    "ExecuteTime": {
     "end_time": "2024-05-09T17:15:44.095228Z",
     "start_time": "2024-05-09T17:14:56.022203Z"
    }
   },
   "outputs": [],
   "source": [
    "import matplotlib.pyplot as plt\n",
    "import contextily as ctx\n",
    "\n",
    "for index, country_row in countries.iterrows():\n",
    "    country_name = country_row['name'].lower()\n",
    "    country = countries[countries['name'].str.lower() == country_name]\n",
    "    \n",
    "    fig, ax = plt.subplots(figsize=(10, 10))\n",
    "    country.plot(ax=ax, color='blue', linewidth=2)\n",
    "        \n",
    "    ctx.add_basemap(ax, crs=country.crs.to_string(), source=ctx.providers.OpenStreetMap.Mapnik)\n",
    "    plt.savefig(f\"proj4_ex04_{country_name}.png\", bbox_inches='tight')\n",
    "    plt.close()"
   ]
  },
  {
   "cell_type": "code",
   "execution_count": 9,
   "id": "db6e503ffa58ce87",
   "metadata": {
    "collapsed": false,
    "ExecuteTime": {
     "end_time": "2024-05-09T17:15:44.098825Z",
     "start_time": "2024-05-09T17:15:44.096741Z"
    }
   },
   "outputs": [],
   "source": []
  }
 ],
 "metadata": {
  "kernelspec": {
   "display_name": "Python 3 (ipykernel)",
   "language": "python",
   "name": "python3"
  },
  "language_info": {
   "codemirror_mode": {
    "name": "ipython",
    "version": 3
   },
   "file_extension": ".py",
   "mimetype": "text/x-python",
   "name": "python",
   "nbconvert_exporter": "python",
   "pygments_lexer": "ipython3",
   "version": "3.12.0"
  }
 },
 "nbformat": 4,
 "nbformat_minor": 5
}
