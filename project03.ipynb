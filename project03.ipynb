{
 "cells": [
  {
   "cell_type": "code",
   "execution_count": 14,
   "id": "initial_id",
   "metadata": {
    "ExecuteTime": {
     "end_time": "2024-04-18T08:34:51.103635Z",
     "start_time": "2024-04-18T08:34:51.085459Z"
    },
    "collapsed": true,
    "jupyter": {
     "outputs_hidden": true
    }
   },
   "outputs": [
    {
     "name": "stdout",
     "output_type": "stream",
     "text": [
      "          make     model  body_type  doors  top_speed  acceleration  \\\n",
      "0         Audi        A3  hatchback    5.0        220           7.2   \n",
      "1          BMW  3 Series      sedan    4.0        240           6.2   \n",
      "2   Volkswagen      Golf  hatchback    5.0        210           8.0   \n",
      "3      Renault      Clio  hatchback    5.0        190          11.0   \n",
      "4         Fiat       500  hatchback    3.0        160          12.9   \n",
      "5      Peugeot       208  hatchback    NaN        190           9.9   \n",
      "6        Volvo      XC60        SUV    5.0        220           8.0   \n",
      "7         Seat      Leon  hatchback    5.0        240           8.0   \n",
      "8         Opel     Corsa  hatchback    5.0        180           9.9   \n",
      "9         Ford   Mustang      coupe    2.0        249           5.8   \n",
      "10  Volkswagen    Passat      sedan    4.0        230           7.5   \n",
      "11     Porsche       911      coupe    NaN        330           3.5   \n",
      "12        Audi        Q5        SUV    5.0        237           6.3   \n",
      "13       Volvo       S60      sedan    4.0        250           6.2   \n",
      "14     Renault    Megane  hatchback    5.0        215           7.9   \n",
      "15     Peugeot      3008        SUV    5.0        210           9.2   \n",
      "16        Fiat     Panda  hatchback    5.0        165          14.5   \n",
      "17        Fiat     Punto  hatchback    3.0        170          12.5   \n",
      "\n",
      "    fuel_consumption                  engine  \n",
      "0                6.0                1.5 TFSI  \n",
      "1                NaN    2.0L TwinPower Turbo  \n",
      "2                5.0                 1.5 TSI  \n",
      "3                6.5                 1.5 dCi  \n",
      "4                NaN             0.9 TwinAir  \n",
      "5                5.0            1.2 PureTech  \n",
      "6                6.0                      B4  \n",
      "7                NaN                 1.5 TSI  \n",
      "8                5.5               1.2 Turbo  \n",
      "9               10.2           2.3L EcoBoost  \n",
      "10               6.0                 2.0 TDI  \n",
      "11              11.8      3.0L Twin Turbo V6  \n",
      "12               NaN         45 TFSI quattro  \n",
      "13               6.6  T8 Polestar Engineered  \n",
      "14               5.4                 1.5 dCi  \n",
      "15               5.6                 1.6 THP  \n",
      "16               5.0                  1.2 8v  \n",
      "17               5.2                  1.2 8v  \n"
     ]
    }
   ],
   "source": [
    "import pandas as pd\n",
    "import numpy as np\n",
    "import json\n",
    "\n",
    "\n",
    "json_file_1 = \"./proj3_data1.json\"\n",
    "json_file_2 = \"./proj3_data2.json\"\n",
    "json_file_3 = \"./proj3_data3.json\"\n",
    "\n",
    "json_data_1 = pd.read_json(json_file_1)\n",
    "json_data_2 = pd.read_json(json_file_2)\n",
    "json_data_3 = pd.read_json(json_file_3)\n",
    "\n",
    "df = pd.concat([json_data_1, json_data_2, json_data_3], ignore_index=True)\n",
    "df.to_json('./proj3_ex01_all_data.json')\n",
    "\n",
    "print(df)"
   ]
  },
  {
   "cell_type": "code",
   "execution_count": 24,
   "id": "55b12bede46455b8",
   "metadata": {
    "collapsed": false,
    "ExecuteTime": {
     "end_time": "2024-04-18T08:41:22.675834Z",
     "start_time": "2024-04-18T08:41:22.670965Z"
    }
   },
   "outputs": [],
   "source": [
    "df_copy = df.copy()\n",
    "\n",
    "nans = df_copy.isna().sum()\n",
    "nans_df = nans[nans > 0]\n",
    "\n",
    "nans_df.to_csv('./proj3_ex02_no_nulls.csv')"
   ]
  },
  {
   "cell_type": "code",
   "execution_count": 16,
   "id": "a637fd4d6b1fffc8",
   "metadata": {
    "ExecuteTime": {
     "end_time": "2024-04-18T08:34:51.124400Z",
     "start_time": "2024-04-18T08:34:51.111579Z"
    },
    "collapsed": false
   },
   "outputs": [
    {
     "name": "stdout",
     "output_type": "stream",
     "text": [
      "{'concat_columns': ['make', 'model', 'engine'], 'id_vars': ['make', 'model'], 'join_column': 'engine', 'int_columns': ['doors', 'displacement', 'horsepower', 'cylinders'], 'grouping_column': 'make', 'pivot_index': 'make', 'pivot_columns': 'fuel_type', 'pivot_values': 'fuel_consumption', 'aggregations': [['displacement', 'min'], ['displacement', 'max'], ['fuel_consumption', 'mean']]}\n",
      "          make     model  body_type  doors  top_speed  acceleration  \\\n",
      "0         Audi        A3  hatchback    5.0        220           7.2   \n",
      "1          BMW  3 Series      sedan    4.0        240           6.2   \n",
      "2   Volkswagen      Golf  hatchback    5.0        210           8.0   \n",
      "3      Renault      Clio  hatchback    5.0        190          11.0   \n",
      "4         Fiat       500  hatchback    3.0        160          12.9   \n",
      "5      Peugeot       208  hatchback    NaN        190           9.9   \n",
      "6        Volvo      XC60        SUV    5.0        220           8.0   \n",
      "7         Seat      Leon  hatchback    5.0        240           8.0   \n",
      "8         Opel     Corsa  hatchback    5.0        180           9.9   \n",
      "9         Ford   Mustang      coupe    2.0        249           5.8   \n",
      "10  Volkswagen    Passat      sedan    4.0        230           7.5   \n",
      "11     Porsche       911      coupe    NaN        330           3.5   \n",
      "12        Audi        Q5        SUV    5.0        237           6.3   \n",
      "13       Volvo       S60      sedan    4.0        250           6.2   \n",
      "14     Renault    Megane  hatchback    5.0        215           7.9   \n",
      "15     Peugeot      3008        SUV    5.0        210           9.2   \n",
      "16        Fiat     Panda  hatchback    5.0        165          14.5   \n",
      "17        Fiat     Punto  hatchback    3.0        170          12.5   \n",
      "\n",
      "    fuel_consumption                  engine  \n",
      "0                6.0                1.5 TFSI  \n",
      "1                NaN    2.0L TwinPower Turbo  \n",
      "2                5.0                 1.5 TSI  \n",
      "3                6.5                 1.5 dCi  \n",
      "4                NaN             0.9 TwinAir  \n",
      "5                5.0            1.2 PureTech  \n",
      "6                6.0                      B4  \n",
      "7                NaN                 1.5 TSI  \n",
      "8                5.5               1.2 Turbo  \n",
      "9               10.2           2.3L EcoBoost  \n",
      "10               6.0                 2.0 TDI  \n",
      "11              11.8      3.0L Twin Turbo V6  \n",
      "12               NaN         45 TFSI quattro  \n",
      "13               6.6  T8 Polestar Engineered  \n",
      "14               5.4                 1.5 dCi  \n",
      "15               5.6                 1.6 THP  \n",
      "16               5.0                  1.2 8v  \n",
      "17               5.2                  1.2 8v  \n",
      "          make     model  body_type  doors  top_speed  acceleration  \\\n",
      "0         Audi        A3  hatchback    5.0        220           7.2   \n",
      "1          BMW  3 Series      sedan    4.0        240           6.2   \n",
      "2   Volkswagen      Golf  hatchback    5.0        210           8.0   \n",
      "3      Renault      Clio  hatchback    5.0        190          11.0   \n",
      "4         Fiat       500  hatchback    3.0        160          12.9   \n",
      "5      Peugeot       208  hatchback    NaN        190           9.9   \n",
      "6        Volvo      XC60        SUV    5.0        220           8.0   \n",
      "7         Seat      Leon  hatchback    5.0        240           8.0   \n",
      "8         Opel     Corsa  hatchback    5.0        180           9.9   \n",
      "9         Ford   Mustang      coupe    2.0        249           5.8   \n",
      "10  Volkswagen    Passat      sedan    4.0        230           7.5   \n",
      "11     Porsche       911      coupe    NaN        330           3.5   \n",
      "12        Audi        Q5        SUV    5.0        237           6.3   \n",
      "13       Volvo       S60      sedan    4.0        250           6.2   \n",
      "14     Renault    Megane  hatchback    5.0        215           7.9   \n",
      "15     Peugeot      3008        SUV    5.0        210           9.2   \n",
      "16        Fiat     Panda  hatchback    5.0        165          14.5   \n",
      "17        Fiat     Punto  hatchback    3.0        170          12.5   \n",
      "\n",
      "    fuel_consumption                  engine  \\\n",
      "0                6.0                1.5 TFSI   \n",
      "1                NaN    2.0L TwinPower Turbo   \n",
      "2                5.0                 1.5 TSI   \n",
      "3                6.5                 1.5 dCi   \n",
      "4                NaN             0.9 TwinAir   \n",
      "5                5.0            1.2 PureTech   \n",
      "6                6.0                      B4   \n",
      "7                NaN                 1.5 TSI   \n",
      "8                5.5               1.2 Turbo   \n",
      "9               10.2           2.3L EcoBoost   \n",
      "10               6.0                 2.0 TDI   \n",
      "11              11.8      3.0L Twin Turbo V6   \n",
      "12               NaN         45 TFSI quattro   \n",
      "13               6.6  T8 Polestar Engineered   \n",
      "14               5.4                 1.5 dCi   \n",
      "15               5.6                 1.6 THP   \n",
      "16               5.0                  1.2 8v   \n",
      "17               5.2                  1.2 8v   \n",
      "\n",
      "                          description  \n",
      "0                    Audi A3 1.5 TFSI  \n",
      "1   BMW 3 Series 2.0L TwinPower Turbo  \n",
      "2             Volkswagen Golf 1.5 TSI  \n",
      "3                Renault Clio 1.5 dCi  \n",
      "4                Fiat 500 0.9 TwinAir  \n",
      "5            Peugeot 208 1.2 PureTech  \n",
      "6                       Volvo XC60 B4  \n",
      "7                   Seat Leon 1.5 TSI  \n",
      "8                Opel Corsa 1.2 Turbo  \n",
      "9          Ford Mustang 2.3L EcoBoost  \n",
      "10          Volkswagen Passat 2.0 TDI  \n",
      "11     Porsche 911 3.0L Twin Turbo V6  \n",
      "12            Audi Q5 45 TFSI quattro  \n",
      "13   Volvo S60 T8 Polestar Engineered  \n",
      "14             Renault Megane 1.5 dCi  \n",
      "15               Peugeot 3008 1.6 THP  \n",
      "16                  Fiat Panda 1.2 8v  \n",
      "17                  Fiat Punto 1.2 8v  \n"
     ]
    }
   ],
   "source": [
    "with open('./proj3_params.json') as f:\n",
    "    params = json.load(f)\n",
    "\n",
    "print(params)\n",
    "\n",
    "df_copy_second = df.copy()\n",
    "print(df_copy_second)\n",
    "\n",
    "df_copy_second['description'] = df_copy_second.apply(lambda row:  ' '.join(row[col] for col in params['concat_columns']), axis=1)\n",
    "\n",
    "print(df_copy_second)\n",
    "df_copy_second.to_json('./proj3_ex03_descriptions.json')"
   ]
  },
  {
   "cell_type": "code",
   "execution_count": 17,
   "id": "dbb6630cfefe81a2",
   "metadata": {
    "ExecuteTime": {
     "end_time": "2024-04-18T08:34:51.136264Z",
     "start_time": "2024-04-18T08:34:51.125408Z"
    },
    "collapsed": false
   },
   "outputs": [
    {
     "name": "stdout",
     "output_type": "stream",
     "text": [
      "                    engine  displacement  horsepower fuel_type  cylinders  \\\n",
      "0                 1.5 TFSI          1498         150  gasoline          4   \n",
      "1     2.0L TwinPower Turbo          1998         184  gasoline          4   \n",
      "2                  1.5 TSI          1498         150  gasoline          4   \n",
      "3                  1.5 dCi          1461         115    diesel          4   \n",
      "4              0.9 TwinAir           875          85  gasoline          2   \n",
      "5             1.2 PureTech          1199         130  gasoline          3   \n",
      "6                1.2 Turbo          1197         110  gasoline          4   \n",
      "7            2.3L EcoBoost          2261         350  gasoline          4   \n",
      "8                  2.0 TDI          1968         150    diesel          4   \n",
      "9       3.0L Twin Turbo V6          3000         450  gasoline          6   \n",
      "10         45 TFSI quattro          1984         245  gasoline          4   \n",
      "11  T8 Polestar Engineered          1969         415    hybrid          4   \n",
      "12                 1.6 THP          1598         165  gasoline          4   \n",
      "\n",
      "   emissions_class  \n",
      "0          Euro 6d  \n",
      "1          Euro 6d  \n",
      "2          Euro 6d  \n",
      "3     Euro 6d-TEMP  \n",
      "4     Euro 6d-TEMP  \n",
      "5          Euro 6d  \n",
      "6     Euro 6d-TEMP  \n",
      "7     Euro 6d-TEMP  \n",
      "8     Euro 6d-TEMP  \n",
      "9           Euro 6  \n",
      "10          Euro 6  \n",
      "11          Euro 6  \n",
      "12          Euro 5  \n"
     ]
    }
   ],
   "source": [
    "df_more_data = pd.read_json('./proj3_more_data.json')\n",
    "print(df_more_data)\n",
    "\n",
    "df_from_3rd = df_copy_second.copy()\n",
    "# df_from_3rd.merge(df_more_data[params['join_column']], how='left')\n",
    "data_joined = df_from_3rd.merge(df_more_data, on=params[\"join_column\"], how=\"left\")\n",
    "data_joined.to_json(\"proj3_ex04_joined.json\")"
   ]
  },
  {
   "cell_type": "code",
   "execution_count": 18,
   "id": "ac214eda5f1e9b35",
   "metadata": {
    "ExecuteTime": {
     "end_time": "2024-04-18T08:34:51.156306Z",
     "start_time": "2024-04-18T08:34:51.137274Z"
    },
    "collapsed": false
   },
   "outputs": [],
   "source": [
    "import json\n",
    "df_from_4th = df_from_3rd.copy()\n",
    "\n",
    "cars = df_from_4th.to_dict(orient='records')\n",
    "for car in cars:\n",
    "    file_name = car['description']\n",
    "    file_name = file_name.replace(\" \", \"_\").lower()\n",
    "    del car['description']\n",
    "    json_string = json.dumps(car)\n",
    "    with open('./proj3_ex05_' + file_name + '.json', 'w') as f:\n",
    "        f.write(json_string)\n",
    "    \n",
    "df_from_4th.where(pd.notnull(df_from_4th), None)\n",
    "for column in params['int_columns']:\n",
    "    if column in df_from_4th.columns:\n",
    "        df_from_4th[column].astype(float).astype(pd.Int64Dtype())\n",
    "\n",
    "cars_int = df_from_4th.to_dict(orient='records')\n",
    "for car in cars_int:\n",
    "    file_name = car['description']\n",
    "    file_name = file_name.replace(\" \", \"_\").lower()\n",
    "    del car['description']\n",
    "    json_string = json.dumps(car)\n",
    "    with open('./proj3_ex05_int_' + file_name + '.json', 'w') as f:\n",
    "        f.write(json_string)"
   ]
  },
  {
   "cell_type": "code",
   "execution_count": 18,
   "id": "a8b16ee1e0bbe815",
   "metadata": {
    "ExecuteTime": {
     "end_time": "2024-04-18T08:34:51.159714Z",
     "start_time": "2024-04-18T08:34:51.157374Z"
    },
    "collapsed": false
   },
   "outputs": [],
   "source": []
  },
  {
   "cell_type": "code",
   "execution_count": 19,
   "id": "11ac18652403e20e",
   "metadata": {
    "ExecuteTime": {
     "end_time": "2024-04-18T08:34:51.166784Z",
     "start_time": "2024-04-18T08:34:51.159714Z"
    },
    "collapsed": false
   },
   "outputs": [],
   "source": [
    "df_ex6={}\n",
    "for t in params['aggregations']:\n",
    "    col = t[0]\n",
    "    ff = t[1]\n",
    "    df_ex6[f'{ff}_{col}'] = data_joined.agg({col : ff})[col]\n",
    "with open('proj3_ex06_aggregations.json', 'w') as file:\n",
    "    json.dump(df_ex6, file)"
   ]
  },
  {
   "cell_type": "code",
   "execution_count": 20,
   "id": "64b572f64f73143c",
   "metadata": {
    "ExecuteTime": {
     "end_time": "2024-04-18T08:34:51.174888Z",
     "start_time": "2024-04-18T08:34:51.167797Z"
    },
    "collapsed": false
   },
   "outputs": [],
   "source": [
    "group_col = params['grouping_column']\n",
    "group = data_joined.groupby(group_col).filter(lambda x:len(x)>1)\n",
    "group = group.groupby(group_col).mean(numeric_only=True)\n",
    "group.to_csv('proj3_ex07_groups.csv', header=True, index=True)"
   ]
  },
  {
   "cell_type": "code",
   "execution_count": 21,
   "id": "df8ff611e97b690b",
   "metadata": {
    "ExecuteTime": {
     "end_time": "2024-04-18T08:34:51.183558Z",
     "start_time": "2024-04-18T08:34:51.175896Z"
    },
    "collapsed": false
   },
   "outputs": [],
   "source": [
    "import pickle\n",
    "topkl = data_joined.pivot_table(index=params['pivot_index'], columns=params['pivot_columns'], values=params['pivot_values'], aggfunc='max')\n",
    "with open('proj3_ex08_pivot.pkl', 'wb') as file:\n",
    "    pickle.dump(topkl, file)\n",
    "\n"
   ]
  },
  {
   "cell_type": "code",
   "execution_count": 22,
   "id": "679ca9758762a05b",
   "metadata": {
    "ExecuteTime": {
     "end_time": "2024-04-18T08:34:51.207317Z",
     "start_time": "2024-04-18T08:34:51.184568Z"
    },
    "collapsed": false
   },
   "outputs": [],
   "source": [
    "result = data_joined.melt(id_vars=params['id_vars'])\n",
    "result.to_csv('proj3_ex08_melt.csv', header=True, index=False)\n",
    "df_ex8=pd.read_csv('proj3_statistics.csv')\n",
    "pref = set(df_ex8.columns[1:].str.split('_').str[0].unique().to_list())\n",
    "data_result = pd.wide_to_long(df_ex8, pref, i='Country',j='Year', sep='_')\n",
    "data_result.index = data_result.index.to_series()\n",
    "\n",
    "with open('proj3_ex08_stats.pkl', 'wb') as file:\n",
    "    pickle.dump(data_result, file)"
   ]
  }
 ],
 "metadata": {
  "kernelspec": {
   "display_name": "Python 3 (ipykernel)",
   "language": "python",
   "name": "python3"
  },
  "language_info": {
   "codemirror_mode": {
    "name": "ipython",
    "version": 3
   },
   "file_extension": ".py",
   "mimetype": "text/x-python",
   "name": "python",
   "nbconvert_exporter": "python",
   "pygments_lexer": "ipython3",
   "version": "3.12.0"
  }
 },
 "nbformat": 4,
 "nbformat_minor": 5
}
