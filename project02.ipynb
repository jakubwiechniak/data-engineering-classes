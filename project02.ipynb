{
 "cells": [
  {
   "cell_type": "code",
   "execution_count": 1,
   "id": "initial_id",
   "metadata": {
    "collapsed": true,
    "jupyter": {
     "outputs_hidden": true
    },
    "ExecuteTime": {
     "end_time": "2024-04-04T07:55:30.438912Z",
     "start_time": "2024-04-04T07:55:28.561604Z"
    }
   },
   "outputs": [
    {
     "name": "stdout",
     "output_type": "stream",
     "text": [
      "Rowan Harrington|drones|python|wej|3,1|2,0|4,4|3,16666666666667|dostateczny|3,5 pts|dostateczny\n",
      ",\n",
      "           full_name     field   language code  task_1  task_2  task_3  \\\n",
      "0   Rowan Harrington    drones     python  wej     3.1     2.0     4.4   \n",
      "1         Nash Wyatt    racing       java  sfe     4.2     2.0     2.0   \n",
      "2     Jadiel Ramirez     media  cplusplus  vaw     4.0     4.9     3.0   \n",
      "3     Makaila Atkins    racing      swift  ugt     4.1     5.0     4.8   \n",
      "4     Melanie Fuller    racing     python  owb     2.7     2.0     2.0   \n",
      "5      Layla Woodard    drones     python  wuf     2.8     2.0     2.0   \n",
      "6         Edwin Hale     media      swift  ceq     4.9     3.0     3.4   \n",
      "7       Travis Rocha  robotics  cplusplus  eir     5.0     4.9     5.0   \n",
      "8       Ricky Howell     media       java  vos     2.1     2.0     2.0   \n",
      "9    Addyson Brennan    drones       java  cov     4.4     3.7     4.0   \n",
      "10      Megan Barker    drones      swift  oqq     3.9     4.0     4.4   \n",
      "11    Abel Hendricks    racing     python  dfa     4.1     5.0     5.0   \n",
      "\n",
      "    tasks_avg    task_grade jury_score     final_grade  \n",
      "0    3.166667   dostateczny    3,5 pts     dostateczny  \n",
      "1    2.733333  bardzo dobry        5 p          mierny  \n",
      "2    3.966667         dobry        3.5          mierny  \n",
      "3    4.633333         dobry          2     dostateczny  \n",
      "4    2.233333  bardzo dobry      pts 2          mierny  \n",
      "5    2.266667  bardzo dobry       3,5p     dostateczny  \n",
      "6    3.766667   dostateczny   -1 (dnf)  niedostateczny  \n",
      "7    4.966667   dostateczny          0  niedostateczny  \n",
      "8    2.033333         dobry    waiting  niedostateczny  \n",
      "9    4.033333  bardzo dobry          -  niedostateczny  \n",
      "10   4.100000   dostateczny          2     dostateczny  \n",
      "11   4.700000  bardzo dobry          4          mierny  \n"
     ]
    }
   ],
   "source": [
    "import pandas as pd\n",
    "import numpy as np\n",
    "import csv\n",
    "import re\n",
    "file_path = \"proj2_data.csv\"\n",
    "row1=None\n",
    "row2=None\n",
    "separator = \"|\"\n",
    "dec_sep = \",\"\n",
    "with open(file_path, newline='') as f:\n",
    "  reader = csv.reader(f)\n",
    "  row1 = next(reader)\n",
    "  row2 = \",\".join(next(reader))\n",
    "  \n",
    "print(row2)\n",
    "  \n",
    "if row1 is not None:\n",
    "  row1 = row1[0]\n",
    "  if len(row1.split(separator)) == 1: separator = \";\"\n",
    "  if len(row1.split(separator)) == 1: separator = \",\"\n",
    "\n",
    "if separator == \",\":\n",
    "  dec_sep = \".\"\n",
    "else:\n",
    "  row2 = row2.split(separator)\n",
    "  reg_dot = re.compile(r'\\d+\\.\\d+')\n",
    "  reg_comma = re.compile(r'\\d+,\\d+')\n",
    "  dot_cnt = 0\n",
    "  comma_cnt = 0\n",
    "  for col in row2:\n",
    "    if re.search(reg_dot, col) is not None and len(re.search(reg_dot, col).group()) == len(col):\n",
    "      dot_cnt+=1\n",
    "    if re.search(reg_comma, col) is not None and len(re.search(reg_comma, col).group())==len(col):\n",
    "      comma_cnt+=1\n",
    "  if dot_cnt > 0 and comma_cnt <= dot_cnt:\n",
    "    dec_sep = '.'\n",
    "  else:\n",
    "    dec_sep = ','\n",
    "\n",
    "print(dec_sep)\n",
    "df = pd.read_csv(file_path, sep=separator, decimal=dec_sep)\n",
    "print(df)\n",
    "df.to_pickle('./proj2_ex01.pkl')"
   ]
  },
  {
   "cell_type": "code",
   "execution_count": 2,
   "id": "ab04ce1b481e7bd3",
   "metadata": {
    "collapsed": false,
    "ExecuteTime": {
     "end_time": "2024-04-04T07:55:36.017904Z",
     "start_time": "2024-04-04T07:55:35.972180Z"
    }
   },
   "outputs": [
    {
     "name": "stdout",
     "output_type": "stream",
     "text": [
      "{'niedostateczny': 1, 'mierny': 2, 'dostateczny': 3, 'dobry': 4, 'bardzo dobry': 5}\n",
      "           full_name     field   language code  task_1  task_2  task_3  \\\n",
      "0   Rowan Harrington    drones     python  wej     3.1     2.0     4.4   \n",
      "1         Nash Wyatt    racing       java  sfe     4.2     2.0     2.0   \n",
      "2     Jadiel Ramirez     media  cplusplus  vaw     4.0     4.9     3.0   \n",
      "3     Makaila Atkins    racing      swift  ugt     4.1     5.0     4.8   \n",
      "4     Melanie Fuller    racing     python  owb     2.7     2.0     2.0   \n",
      "5      Layla Woodard    drones     python  wuf     2.8     2.0     2.0   \n",
      "6         Edwin Hale     media      swift  ceq     4.9     3.0     3.4   \n",
      "7       Travis Rocha  robotics  cplusplus  eir     5.0     4.9     5.0   \n",
      "8       Ricky Howell     media       java  vos     2.1     2.0     2.0   \n",
      "9    Addyson Brennan    drones       java  cov     4.4     3.7     4.0   \n",
      "10      Megan Barker    drones      swift  oqq     3.9     4.0     4.4   \n",
      "11    Abel Hendricks    racing     python  dfa     4.1     5.0     5.0   \n",
      "\n",
      "    tasks_avg    task_grade jury_score     final_grade  \n",
      "0    3.166667   dostateczny    3,5 pts     dostateczny  \n",
      "1    2.733333  bardzo dobry        5 p          mierny  \n",
      "2    3.966667         dobry        3.5          mierny  \n",
      "3    4.633333         dobry          2     dostateczny  \n",
      "4    2.233333  bardzo dobry      pts 2          mierny  \n",
      "5    2.266667  bardzo dobry       3,5p     dostateczny  \n",
      "6    3.766667   dostateczny   -1 (dnf)  niedostateczny  \n",
      "7    4.966667   dostateczny          0  niedostateczny  \n",
      "8    2.033333         dobry    waiting  niedostateczny  \n",
      "9    4.033333  bardzo dobry          -  niedostateczny  \n",
      "10   4.100000   dostateczny          2     dostateczny  \n",
      "11   4.700000  bardzo dobry          4          mierny  \n",
      "{'final_grade', 'task_grade'}\n",
      "           full_name     field   language code  task_1  task_2  task_3  \\\n",
      "0   Rowan Harrington    drones     python  wej     3.1     2.0     4.4   \n",
      "1         Nash Wyatt    racing       java  sfe     4.2     2.0     2.0   \n",
      "2     Jadiel Ramirez     media  cplusplus  vaw     4.0     4.9     3.0   \n",
      "3     Makaila Atkins    racing      swift  ugt     4.1     5.0     4.8   \n",
      "4     Melanie Fuller    racing     python  owb     2.7     2.0     2.0   \n",
      "5      Layla Woodard    drones     python  wuf     2.8     2.0     2.0   \n",
      "6         Edwin Hale     media      swift  ceq     4.9     3.0     3.4   \n",
      "7       Travis Rocha  robotics  cplusplus  eir     5.0     4.9     5.0   \n",
      "8       Ricky Howell     media       java  vos     2.1     2.0     2.0   \n",
      "9    Addyson Brennan    drones       java  cov     4.4     3.7     4.0   \n",
      "10      Megan Barker    drones      swift  oqq     3.9     4.0     4.4   \n",
      "11    Abel Hendricks    racing     python  dfa     4.1     5.0     5.0   \n",
      "\n",
      "    tasks_avg  task_grade jury_score  final_grade  \n",
      "0    3.166667           3    3,5 pts            3  \n",
      "1    2.733333           5        5 p            2  \n",
      "2    3.966667           4        3.5            2  \n",
      "3    4.633333           4          2            3  \n",
      "4    2.233333           5      pts 2            2  \n",
      "5    2.266667           5       3,5p            3  \n",
      "6    3.766667           3   -1 (dnf)            1  \n",
      "7    4.966667           3          0            1  \n",
      "8    2.033333           4    waiting            1  \n",
      "9    4.033333           5          -            1  \n",
      "10   4.100000           3          2            3  \n",
      "11   4.700000           5          4            2  \n"
     ]
    }
   ],
   "source": [
    "scale = {}\n",
    "with open('./proj2_scale.txt') as f:\n",
    "  for (idx, row) in enumerate(f):\n",
    "    scale[row.replace(\"\\n\", \"\")] = idx+1\n",
    "\n",
    "print(scale)\n",
    "\n",
    "df_first_copy = df.copy()\n",
    "print(df_first_copy)\n",
    "\n",
    "columns_with_scale_values = set()\n",
    "\n",
    "for column_name, column in df_first_copy.items():\n",
    "    for idx, value in column.items():\n",
    "        if value in scale.keys():\n",
    "            df_first_copy.at[idx, column_name] = scale[value]\n",
    "            columns_with_scale_values.add(column_name)\n",
    "\n",
    "for column_name in columns_with_scale_values:\n",
    "    df_first_copy[column_name] = df_first_copy[column_name].astype(int)\n",
    "        \n",
    "print(columns_with_scale_values)\n",
    "\n",
    "print(df_first_copy)\n",
    "df_first_copy.to_pickle('./proj2_ex02.pkl')"
   ]
  },
  {
   "cell_type": "code",
   "execution_count": 12,
   "id": "ea98f9d73ecee68a",
   "metadata": {
    "collapsed": false,
    "ExecuteTime": {
     "end_time": "2024-04-04T08:09:32.622235Z",
     "start_time": "2024-04-04T08:09:32.603630Z"
    }
   },
   "outputs": [
    {
     "name": "stdout",
     "output_type": "stream",
     "text": [
      "{'final_grade', 'task_grade'}\n",
      "['niedostateczny', 'mierny', 'dostateczny', 'dobry', 'bardzo dobry']\n",
      "full_name        object\n",
      "field            object\n",
      "language         object\n",
      "code             object\n",
      "task_1          float64\n",
      "task_2          float64\n",
      "task_3          float64\n",
      "tasks_avg       float64\n",
      "task_grade     category\n",
      "jury_score       object\n",
      "final_grade    category\n",
      "dtype: object\n"
     ]
    }
   ],
   "source": [
    "print(columns_with_scale_values)\n",
    "df_second_copy = df.copy()\n",
    "\n",
    "for column in columns_with_scale_values:\n",
    "    df_second_copy[column] = pd.Categorical(df_second_copy[column], categories=list(scale.keys()))\n",
    "\n",
    "\n",
    "df_second_copy.to_pickle('./proj2_ex03.pkl')"
   ]
  },
  {
   "cell_type": "code",
   "execution_count": 14,
   "id": "1a7622325576f286",
   "metadata": {
    "collapsed": false,
    "ExecuteTime": {
     "end_time": "2024-04-04T08:12:34.316118Z",
     "start_time": "2024-04-04T08:12:34.293281Z"
    }
   },
   "outputs": [
    {
     "name": "stdout",
     "output_type": "stream",
     "text": [
      "['code', 'field', 'final_grade', 'full_name', 'jury_score', 'language', 'task_grade']\n",
      "    jury_score\n",
      "0          3.5\n",
      "1          5.0\n",
      "2          3.5\n",
      "3          2.0\n",
      "4          2.0\n",
      "5          3.5\n",
      "6         -1.0\n",
      "7          0.0\n",
      "8          NaN\n",
      "9          NaN\n",
      "10         2.0\n",
      "11         4.0\n"
     ]
    }
   ],
   "source": [
    "import re\n",
    "\n",
    "def extract_number(text):\n",
    "    pattern = r'-{0,1}[0-9]+[\\.,]{0,1}[0-9]*'\n",
    "    match = re.search(pattern, str(text))\n",
    "    if match:\n",
    "        number_str = match.group().replace(',', '.')\n",
    "        return float(number_str)\n",
    "    else:\n",
    "        return np.nan\n",
    "\n",
    "numeric_columns = df.select_dtypes(include=np.number).columns\n",
    "non_numeric_columns = df.columns.difference(numeric_columns).tolist()\n",
    "print(non_numeric_columns)\n",
    "\n",
    "def contains_number(cell_value):\n",
    "    return bool(re.search(r'-{0,1}[0-9]+[\\.,]{0,1}[0-9]*', str(cell_value)))\n",
    "\n",
    "columns_with_numbers = []\n",
    "\n",
    "for col in df.columns:\n",
    "    if col not in numeric_columns:\n",
    "        if df[col].apply(contains_number).any():\n",
    "            columns_with_numbers.append(col)\n",
    "            \n",
    "new_df = df[columns_with_numbers].copy()\n",
    "for col in new_df.columns:\n",
    "  new_df[col] = new_df[col].apply(extract_number)\n",
    "print(new_df)\n",
    "new_df.to_pickle('./proj2_ex04.pkl')"
   ]
  },
  {
   "cell_type": "code",
   "execution_count": 40,
   "id": "290611420da5c9e5",
   "metadata": {
    "ExecuteTime": {
     "end_time": "2024-04-03T23:38:04.034803Z",
     "start_time": "2024-04-03T23:38:04.022044Z"
    },
    "collapsed": false
   },
   "outputs": [
    {
     "name": "stdout",
     "output_type": "stream",
     "text": [
      "['field', 'language']\n",
      "    drones  media  racing  robotics\n",
      "0     True  False   False     False\n",
      "1    False  False    True     False\n",
      "2    False   True   False     False\n",
      "3    False  False    True     False\n",
      "4    False  False    True     False\n",
      "5     True  False   False     False\n",
      "6    False   True   False     False\n",
      "7    False  False   False      True\n",
      "8    False   True   False     False\n",
      "9     True  False   False     False\n",
      "10    True  False   False     False\n",
      "11   False  False    True     False\n",
      "    cplusplus   java  python  swift\n",
      "0       False  False    True  False\n",
      "1       False   True   False  False\n",
      "2        True  False   False  False\n",
      "3       False  False   False   True\n",
      "4       False  False    True  False\n",
      "5       False  False    True  False\n",
      "6       False  False   False   True\n",
      "7        True  False   False  False\n",
      "8       False   True   False  False\n",
      "9       False   True   False  False\n",
      "10      False  False   False   True\n",
      "11      False  False    True  False\n"
     ]
    }
   ],
   "source": [
    "og_df = df[non_numeric_columns].copy()\n",
    "matching_columns = []\n",
    "for col in og_df.columns:\n",
    "  if not og_df[col].isin(scale.keys()).any() and not og_df[col].str.contains(r'[^a-z]').any() and len(og_df[col].unique()) <= 10:\n",
    "    matching_columns.append(col)\n",
    "\n",
    "print(matching_columns)\n",
    "for (idx, col) in enumerate(matching_columns):\n",
    "  og_df_copy = og_df[col].copy()\n",
    "  og_df_encoded = pd.get_dummies(og_df_copy)\n",
    "  og_df_encoded.to_pickle(f\"./proj2_ex05_{idx+1}.pkl\")\n",
    "  print(og_df_encoded)"
   ]
  },
  {
   "cell_type": "code",
   "execution_count": null,
   "id": "87a5391756eb2f7a",
   "metadata": {
    "collapsed": false
   },
   "outputs": [],
   "source": []
  }
 ],
 "metadata": {
  "kernelspec": {
   "display_name": "Python 3 (ipykernel)",
   "language": "python",
   "name": "python3"
  },
  "language_info": {
   "codemirror_mode": {
    "name": "ipython",
    "version": 3
   },
   "file_extension": ".py",
   "mimetype": "text/x-python",
   "name": "python",
   "nbconvert_exporter": "python",
   "pygments_lexer": "ipython3",
   "version": "3.12.0"
  }
 },
 "nbformat": 4,
 "nbformat_minor": 5
}
