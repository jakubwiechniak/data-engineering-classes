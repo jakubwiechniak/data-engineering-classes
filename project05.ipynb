{
 "cells": [
  {
   "cell_type": "code",
   "execution_count": 7,
   "id": "initial_id",
   "metadata": {
    "collapsed": true,
    "jupyter": {
     "outputs_hidden": true
    },
    "ExecuteTime": {
     "end_time": "2024-05-23T16:44:00.694920Z",
     "start_time": "2024-05-23T16:44:00.690210Z"
    }
   },
   "outputs": [],
   "source": [
    "import json\n",
    "import math\n",
    "\n",
    "with open('proj5_params.json', 'r') as f:\n",
    "    json_data = json.load(f)"
   ]
  },
  {
   "cell_type": "code",
   "execution_count": 8,
   "id": "61c6aef308664d94",
   "metadata": {
    "collapsed": false,
    "ExecuteTime": {
     "end_time": "2024-05-23T16:44:00.716196Z",
     "start_time": "2024-05-23T16:44:00.696571Z"
    }
   },
   "outputs": [],
   "source": [
    "import pandas as pd\n",
    "import re\n",
    "\n",
    "df = pd.read_csv('proj5_timeseries.csv')\n",
    "columns_dict = dict.fromkeys(df)\n",
    "for i in columns_dict:\n",
    "    columns_dict[i] = re.sub(r\"[^a-z]\", \"_\", str(i).lower())\n",
    "\n",
    "df.rename(columns=columns_dict, inplace=True)\n",
    "\n",
    "df[df.columns[0]] = pd.to_datetime(df[df.columns[0]], format='mixed')\n",
    "df.set_index(df.columns[0], inplace=True)\n",
    "df = df.asfreq(json_data['original_frequency'])\n",
    "df.to_pickle('proj5_ex01.pkl')"
   ]
  },
  {
   "cell_type": "code",
   "execution_count": 13,
   "id": "c2fdde236eb4ea64",
   "metadata": {
    "collapsed": false,
    "ExecuteTime": {
     "end_time": "2024-05-23T16:45:37.880113Z",
     "start_time": "2024-05-23T16:45:37.861889Z"
    }
   },
   "outputs": [
    {
     "data": {
      "text/plain": "            consumption__wh_     wind   solar  wind_solar\ndate                                                     \n2006-01-01        1069.18400      NaN     NaN         NaN\n2006-01-08        1207.98500      NaN     NaN         NaN\n2006-01-15        1265.47500      NaN     NaN         NaN\n2006-01-22        1248.11100      NaN     NaN         NaN\n2006-01-29        1252.21500      NaN     NaN         NaN\n...                      ...      ...     ...         ...\n2017-12-03        1330.26226  387.490  12.411     399.901\n2017-12-10        1318.10964  622.944   9.922     632.866\n2017-12-17        1297.21916  250.726  12.620     263.346\n2017-12-24        1141.75730  812.422   9.949     822.371\n2017-12-31        1107.11488  721.176  19.980     741.156\n\n[627 rows x 4 columns]",
      "text/html": "<div>\n<style scoped>\n    .dataframe tbody tr th:only-of-type {\n        vertical-align: middle;\n    }\n\n    .dataframe tbody tr th {\n        vertical-align: top;\n    }\n\n    .dataframe thead th {\n        text-align: right;\n    }\n</style>\n<table border=\"1\" class=\"dataframe\">\n  <thead>\n    <tr style=\"text-align: right;\">\n      <th></th>\n      <th>consumption__wh_</th>\n      <th>wind</th>\n      <th>solar</th>\n      <th>wind_solar</th>\n    </tr>\n    <tr>\n      <th>date</th>\n      <th></th>\n      <th></th>\n      <th></th>\n      <th></th>\n    </tr>\n  </thead>\n  <tbody>\n    <tr>\n      <th>2006-01-01</th>\n      <td>1069.18400</td>\n      <td>NaN</td>\n      <td>NaN</td>\n      <td>NaN</td>\n    </tr>\n    <tr>\n      <th>2006-01-08</th>\n      <td>1207.98500</td>\n      <td>NaN</td>\n      <td>NaN</td>\n      <td>NaN</td>\n    </tr>\n    <tr>\n      <th>2006-01-15</th>\n      <td>1265.47500</td>\n      <td>NaN</td>\n      <td>NaN</td>\n      <td>NaN</td>\n    </tr>\n    <tr>\n      <th>2006-01-22</th>\n      <td>1248.11100</td>\n      <td>NaN</td>\n      <td>NaN</td>\n      <td>NaN</td>\n    </tr>\n    <tr>\n      <th>2006-01-29</th>\n      <td>1252.21500</td>\n      <td>NaN</td>\n      <td>NaN</td>\n      <td>NaN</td>\n    </tr>\n    <tr>\n      <th>...</th>\n      <td>...</td>\n      <td>...</td>\n      <td>...</td>\n      <td>...</td>\n    </tr>\n    <tr>\n      <th>2017-12-03</th>\n      <td>1330.26226</td>\n      <td>387.490</td>\n      <td>12.411</td>\n      <td>399.901</td>\n    </tr>\n    <tr>\n      <th>2017-12-10</th>\n      <td>1318.10964</td>\n      <td>622.944</td>\n      <td>9.922</td>\n      <td>632.866</td>\n    </tr>\n    <tr>\n      <th>2017-12-17</th>\n      <td>1297.21916</td>\n      <td>250.726</td>\n      <td>12.620</td>\n      <td>263.346</td>\n    </tr>\n    <tr>\n      <th>2017-12-24</th>\n      <td>1141.75730</td>\n      <td>812.422</td>\n      <td>9.949</td>\n      <td>822.371</td>\n    </tr>\n    <tr>\n      <th>2017-12-31</th>\n      <td>1107.11488</td>\n      <td>721.176</td>\n      <td>19.980</td>\n      <td>741.156</td>\n    </tr>\n  </tbody>\n</table>\n<p>627 rows × 4 columns</p>\n</div>"
     },
     "execution_count": 13,
     "metadata": {},
     "output_type": "execute_result"
    }
   ],
   "source": [
    "df_copy = df.copy()\n",
    "df_copy = df_copy.asfreq(json_data['target_frequency'])\n",
    "df_copy.to_pickle('proj5_ex02.pkl')\n",
    "df_copy"
   ]
  },
  {
   "cell_type": "code",
   "execution_count": 10,
   "id": "2374c75530812988",
   "metadata": {
    "collapsed": false,
    "ExecuteTime": {
     "end_time": "2024-05-23T16:44:00.739895Z",
     "start_time": "2024-05-23T16:44:00.729715Z"
    }
   },
   "outputs": [
    {
     "name": "stdout",
     "output_type": "stream",
     "text": [
      "{'original_frequency': 'D', 'target_frequency': 'W', 'downsample_periods': 3, 'downsample_units': 'd', 'upsample_periods': 2, 'upsample_units': 'h', 'interpolation': 'polynomial', 'interpolation_order': 3, 'sensors_periods': 10, 'sensors_units': 's'}\n",
      "            consumption__wh_      wind   solar  wind_solar\n",
      "date                                                      \n",
      "2006-01-01        3892.23800       NaN     NaN         NaN\n",
      "2006-01-04        4337.77500       NaN     NaN         NaN\n",
      "2006-01-07        4037.59500       NaN     NaN         NaN\n",
      "2006-01-10        4707.36700       NaN     NaN         NaN\n",
      "2006-01-13        4170.42200       NaN     NaN         NaN\n",
      "...                      ...       ...     ...         ...\n",
      "2017-12-17        4462.39225   484.667  37.310     521.977\n",
      "2017-12-20        4503.29557   578.692  26.177     604.869\n",
      "2017-12-23        3525.21153  2148.306  34.164    2182.470\n",
      "2017-12-26        3693.92172  1618.384  61.615    1679.999\n",
      "2017-12-29        3617.65138  2026.700  57.301    2084.001\n",
      "\n",
      "[1461 rows x 4 columns]\n"
     ]
    }
   ],
   "source": [
    "print(json_data)\n",
    "\n",
    "dfw = df.copy()\n",
    "dfw = dfw.resample(str(json_data['downsample_periods'])+json_data['downsample_units']).sum(min_count=json_data['downsample_periods'])\n",
    "print(dfw)\n",
    "dfw.to_pickle('proj5_ex03.pkl')"
   ]
  },
  {
   "cell_type": "code",
   "execution_count": 11,
   "id": "8afcc2a25bfe17fa",
   "metadata": {
    "collapsed": false,
    "ExecuteTime": {
     "end_time": "2024-05-23T16:44:00.789952Z",
     "start_time": "2024-05-23T16:44:00.740907Z"
    }
   },
   "outputs": [
    {
     "name": "stdout",
     "output_type": "stream",
     "text": [
      "{'original_frequency': 'D', 'target_frequency': 'W', 'downsample_periods': 3, 'downsample_units': 'd', 'upsample_periods': 2, 'upsample_units': 'h', 'interpolation': 'polynomial', 'interpolation_order': 3, 'sensors_periods': 10, 'sensors_units': 's'}\n",
      "                     consumption__wh_       wind     solar  wind_solar\n",
      "date                                                                  \n",
      "2006-01-01 00:00:00         89.098667        NaN       NaN         NaN\n",
      "2006-01-01 02:00:00         92.515716        NaN       NaN         NaN\n",
      "2006-01-01 04:00:00         95.668110        NaN       NaN         NaN\n",
      "2006-01-01 06:00:00         98.566792        NaN       NaN         NaN\n",
      "2006-01-01 08:00:00        101.222704        NaN       NaN         NaN\n",
      "...                               ...        ...       ...         ...\n",
      "2017-12-30 16:00:00         95.117424  63.173803  0.423908   63.597711\n",
      "2017-12-30 18:00:00         94.371167  62.769170  0.626352   63.395522\n",
      "2017-12-30 20:00:00         93.643499  62.132939  0.897118   63.030057\n",
      "2017-12-30 22:00:00         92.938331  61.248189  1.241551   62.489741\n",
      "2017-12-31 00:00:00         92.259573  60.098000  1.665000   61.763000\n",
      "\n",
      "[52585 rows x 4 columns]\n"
     ]
    }
   ],
   "source": [
    "print(json_data)\n",
    "dfu = df.copy()\n",
    "resample_freq = pd.Timedelta(json_data['upsample_periods'], json_data['upsample_units'])\n",
    "scale_factor = pd.Timedelta(df.index.freq)/resample_freq\n",
    "dfu = dfu.resample(resample_freq).interpolate(method=json_data['interpolation'], order=json_data['interpolation_order'])\n",
    "for col in dfu.columns:\n",
    "    dfu[col] /= scale_factor\n",
    "dfu.to_pickle('proj5_ex04.pkl')\n",
    "print(dfu)"
   ]
  },
  {
   "cell_type": "code",
   "execution_count": 12,
   "id": "b0719b557db824b1",
   "metadata": {
    "collapsed": false,
    "ExecuteTime": {
     "end_time": "2024-05-23T16:44:01.160693Z",
     "start_time": "2024-05-23T16:44:00.790895Z"
    }
   },
   "outputs": [
    {
     "data": {
      "text/plain": "device_id                  25        26        27        28        29  \\\n2022-11-25 00:01:00  6.711111  5.109630  5.192130  5.588325  6.758754   \n2022-11-25 00:01:10  6.716898  5.124444  5.203704  5.585990  6.764646   \n2022-11-25 00:01:20  6.721528  5.136296  5.212963  5.584122  6.769360   \n2022-11-25 00:01:30  6.729630  5.157037  5.229167  5.580853  6.777609   \n2022-11-25 00:01:40  6.733102  5.165926  5.236111  5.579452  6.781145   \n...                       ...       ...       ...       ...       ...   \n2022-11-27 23:59:20  4.304678  4.484096  5.268627  4.721053  6.380952   \n2022-11-27 23:59:30  4.305263  4.482571  5.282353  4.721053  6.380952   \n2022-11-27 23:59:40  4.305263  4.482353  5.288235  4.721053  6.380952   \n2022-11-27 23:59:50  4.305263  4.482353  5.296078  4.721053  6.380952   \n2022-11-28 00:00:00  4.305263  4.482353  5.300000  4.721053  6.380952   \n\ndevice_id                  30        31        32        33        34  ...  \\\n2022-11-25 00:01:00  5.562434  5.437475  7.551852  6.749673  5.333951  ...   \n2022-11-25 00:01:10  5.571252  5.437222  7.555967  6.751852  5.318519  ...   \n2022-11-25 00:01:20  5.578307  5.437020  7.559259  6.753595  5.306173  ...   \n2022-11-25 00:01:30  5.590653  5.436667  7.565021  6.756645  5.290741  ...   \n2022-11-25 00:01:40  5.595944  5.436515  7.567490  6.757952  5.285185  ...   \n...                       ...       ...       ...       ...       ...  ...   \n2022-11-27 23:59:20  6.097661  5.159226  5.188889  4.248889  5.887800  ...   \n2022-11-27 23:59:30  6.096296  5.155455  5.190123  4.243704  5.888235  ...   \n2022-11-27 23:59:40  6.095712  5.155455  5.190476  4.241481  5.888235  ...   \n2022-11-27 23:59:50  6.094932  5.155455  5.190476  4.240000  5.888235  ...   \n2022-11-28 00:00:00  6.094737  5.155455  5.190476  4.240000  5.888235  ...   \n\ndevice_id                  38        39        40        41        42  \\\n2022-11-25 00:01:00  7.077160  6.500000  3.245833  7.106173  7.718301   \n2022-11-25 00:01:10  7.080247  6.500000  3.248148  7.112346  7.722658   \n2022-11-25 00:01:20  7.082716  6.500000  3.250000  7.117284  7.726144   \n2022-11-25 00:01:30  7.087037  6.500000  3.253241  7.125926  7.732244   \n2022-11-25 00:01:40  7.088889  6.500000  3.254630  7.129630  7.734858   \n...                       ...       ...       ...       ...       ...   \n2022-11-27 23:59:20  5.600000  4.515789  2.300000  5.149383  5.300000   \n2022-11-27 23:59:30  5.600000  4.515789  2.300000  5.140741  5.300000   \n2022-11-27 23:59:40  5.600000  4.515789  2.300000  5.137037  5.300000   \n2022-11-27 23:59:50  5.600000  4.515789  2.300000  5.133333  5.300000   \n2022-11-28 00:00:00  5.600000  4.515789  2.300000  5.133333  5.300000   \n\ndevice_id                  43        44        45        46        47  \n2022-11-25 00:01:00  5.215595  7.022896  7.110136  6.780507  7.733333  \n2022-11-25 00:01:10  5.235088  7.026263  7.114035  6.775634  7.735859  \n2022-11-25 00:01:20  5.250682  7.028956  7.117154  6.771735  7.737879  \n2022-11-25 00:01:30  5.277973  7.033670  7.122612  6.764912  7.741414  \n2022-11-25 00:01:40  5.289669  7.035690  7.124951  6.761988  7.742929  \n...                       ...       ...       ...       ...       ...  \n2022-11-27 23:59:20  5.576023  4.697856  6.203472  4.005882  6.001235  \n2022-11-27 23:59:30  5.580117  4.699220  6.200000  4.005882  6.000000  \n2022-11-27 23:59:40  5.581871  4.699805  6.200000  4.005882  6.000000  \n2022-11-27 23:59:50  5.584211  4.700000  6.200000  4.005882  6.000000  \n2022-11-28 00:00:00  5.584211  4.700000  6.200000  4.005882  6.000000  \n\n[25915 rows x 23 columns]",
      "text/html": "<div>\n<style scoped>\n    .dataframe tbody tr th:only-of-type {\n        vertical-align: middle;\n    }\n\n    .dataframe tbody tr th {\n        vertical-align: top;\n    }\n\n    .dataframe thead th {\n        text-align: right;\n    }\n</style>\n<table border=\"1\" class=\"dataframe\">\n  <thead>\n    <tr style=\"text-align: right;\">\n      <th>device_id</th>\n      <th>25</th>\n      <th>26</th>\n      <th>27</th>\n      <th>28</th>\n      <th>29</th>\n      <th>30</th>\n      <th>31</th>\n      <th>32</th>\n      <th>33</th>\n      <th>34</th>\n      <th>...</th>\n      <th>38</th>\n      <th>39</th>\n      <th>40</th>\n      <th>41</th>\n      <th>42</th>\n      <th>43</th>\n      <th>44</th>\n      <th>45</th>\n      <th>46</th>\n      <th>47</th>\n    </tr>\n  </thead>\n  <tbody>\n    <tr>\n      <th>2022-11-25 00:01:00</th>\n      <td>6.711111</td>\n      <td>5.109630</td>\n      <td>5.192130</td>\n      <td>5.588325</td>\n      <td>6.758754</td>\n      <td>5.562434</td>\n      <td>5.437475</td>\n      <td>7.551852</td>\n      <td>6.749673</td>\n      <td>5.333951</td>\n      <td>...</td>\n      <td>7.077160</td>\n      <td>6.500000</td>\n      <td>3.245833</td>\n      <td>7.106173</td>\n      <td>7.718301</td>\n      <td>5.215595</td>\n      <td>7.022896</td>\n      <td>7.110136</td>\n      <td>6.780507</td>\n      <td>7.733333</td>\n    </tr>\n    <tr>\n      <th>2022-11-25 00:01:10</th>\n      <td>6.716898</td>\n      <td>5.124444</td>\n      <td>5.203704</td>\n      <td>5.585990</td>\n      <td>6.764646</td>\n      <td>5.571252</td>\n      <td>5.437222</td>\n      <td>7.555967</td>\n      <td>6.751852</td>\n      <td>5.318519</td>\n      <td>...</td>\n      <td>7.080247</td>\n      <td>6.500000</td>\n      <td>3.248148</td>\n      <td>7.112346</td>\n      <td>7.722658</td>\n      <td>5.235088</td>\n      <td>7.026263</td>\n      <td>7.114035</td>\n      <td>6.775634</td>\n      <td>7.735859</td>\n    </tr>\n    <tr>\n      <th>2022-11-25 00:01:20</th>\n      <td>6.721528</td>\n      <td>5.136296</td>\n      <td>5.212963</td>\n      <td>5.584122</td>\n      <td>6.769360</td>\n      <td>5.578307</td>\n      <td>5.437020</td>\n      <td>7.559259</td>\n      <td>6.753595</td>\n      <td>5.306173</td>\n      <td>...</td>\n      <td>7.082716</td>\n      <td>6.500000</td>\n      <td>3.250000</td>\n      <td>7.117284</td>\n      <td>7.726144</td>\n      <td>5.250682</td>\n      <td>7.028956</td>\n      <td>7.117154</td>\n      <td>6.771735</td>\n      <td>7.737879</td>\n    </tr>\n    <tr>\n      <th>2022-11-25 00:01:30</th>\n      <td>6.729630</td>\n      <td>5.157037</td>\n      <td>5.229167</td>\n      <td>5.580853</td>\n      <td>6.777609</td>\n      <td>5.590653</td>\n      <td>5.436667</td>\n      <td>7.565021</td>\n      <td>6.756645</td>\n      <td>5.290741</td>\n      <td>...</td>\n      <td>7.087037</td>\n      <td>6.500000</td>\n      <td>3.253241</td>\n      <td>7.125926</td>\n      <td>7.732244</td>\n      <td>5.277973</td>\n      <td>7.033670</td>\n      <td>7.122612</td>\n      <td>6.764912</td>\n      <td>7.741414</td>\n    </tr>\n    <tr>\n      <th>2022-11-25 00:01:40</th>\n      <td>6.733102</td>\n      <td>5.165926</td>\n      <td>5.236111</td>\n      <td>5.579452</td>\n      <td>6.781145</td>\n      <td>5.595944</td>\n      <td>5.436515</td>\n      <td>7.567490</td>\n      <td>6.757952</td>\n      <td>5.285185</td>\n      <td>...</td>\n      <td>7.088889</td>\n      <td>6.500000</td>\n      <td>3.254630</td>\n      <td>7.129630</td>\n      <td>7.734858</td>\n      <td>5.289669</td>\n      <td>7.035690</td>\n      <td>7.124951</td>\n      <td>6.761988</td>\n      <td>7.742929</td>\n    </tr>\n    <tr>\n      <th>...</th>\n      <td>...</td>\n      <td>...</td>\n      <td>...</td>\n      <td>...</td>\n      <td>...</td>\n      <td>...</td>\n      <td>...</td>\n      <td>...</td>\n      <td>...</td>\n      <td>...</td>\n      <td>...</td>\n      <td>...</td>\n      <td>...</td>\n      <td>...</td>\n      <td>...</td>\n      <td>...</td>\n      <td>...</td>\n      <td>...</td>\n      <td>...</td>\n      <td>...</td>\n      <td>...</td>\n    </tr>\n    <tr>\n      <th>2022-11-27 23:59:20</th>\n      <td>4.304678</td>\n      <td>4.484096</td>\n      <td>5.268627</td>\n      <td>4.721053</td>\n      <td>6.380952</td>\n      <td>6.097661</td>\n      <td>5.159226</td>\n      <td>5.188889</td>\n      <td>4.248889</td>\n      <td>5.887800</td>\n      <td>...</td>\n      <td>5.600000</td>\n      <td>4.515789</td>\n      <td>2.300000</td>\n      <td>5.149383</td>\n      <td>5.300000</td>\n      <td>5.576023</td>\n      <td>4.697856</td>\n      <td>6.203472</td>\n      <td>4.005882</td>\n      <td>6.001235</td>\n    </tr>\n    <tr>\n      <th>2022-11-27 23:59:30</th>\n      <td>4.305263</td>\n      <td>4.482571</td>\n      <td>5.282353</td>\n      <td>4.721053</td>\n      <td>6.380952</td>\n      <td>6.096296</td>\n      <td>5.155455</td>\n      <td>5.190123</td>\n      <td>4.243704</td>\n      <td>5.888235</td>\n      <td>...</td>\n      <td>5.600000</td>\n      <td>4.515789</td>\n      <td>2.300000</td>\n      <td>5.140741</td>\n      <td>5.300000</td>\n      <td>5.580117</td>\n      <td>4.699220</td>\n      <td>6.200000</td>\n      <td>4.005882</td>\n      <td>6.000000</td>\n    </tr>\n    <tr>\n      <th>2022-11-27 23:59:40</th>\n      <td>4.305263</td>\n      <td>4.482353</td>\n      <td>5.288235</td>\n      <td>4.721053</td>\n      <td>6.380952</td>\n      <td>6.095712</td>\n      <td>5.155455</td>\n      <td>5.190476</td>\n      <td>4.241481</td>\n      <td>5.888235</td>\n      <td>...</td>\n      <td>5.600000</td>\n      <td>4.515789</td>\n      <td>2.300000</td>\n      <td>5.137037</td>\n      <td>5.300000</td>\n      <td>5.581871</td>\n      <td>4.699805</td>\n      <td>6.200000</td>\n      <td>4.005882</td>\n      <td>6.000000</td>\n    </tr>\n    <tr>\n      <th>2022-11-27 23:59:50</th>\n      <td>4.305263</td>\n      <td>4.482353</td>\n      <td>5.296078</td>\n      <td>4.721053</td>\n      <td>6.380952</td>\n      <td>6.094932</td>\n      <td>5.155455</td>\n      <td>5.190476</td>\n      <td>4.240000</td>\n      <td>5.888235</td>\n      <td>...</td>\n      <td>5.600000</td>\n      <td>4.515789</td>\n      <td>2.300000</td>\n      <td>5.133333</td>\n      <td>5.300000</td>\n      <td>5.584211</td>\n      <td>4.700000</td>\n      <td>6.200000</td>\n      <td>4.005882</td>\n      <td>6.000000</td>\n    </tr>\n    <tr>\n      <th>2022-11-28 00:00:00</th>\n      <td>4.305263</td>\n      <td>4.482353</td>\n      <td>5.300000</td>\n      <td>4.721053</td>\n      <td>6.380952</td>\n      <td>6.094737</td>\n      <td>5.155455</td>\n      <td>5.190476</td>\n      <td>4.240000</td>\n      <td>5.888235</td>\n      <td>...</td>\n      <td>5.600000</td>\n      <td>4.515789</td>\n      <td>2.300000</td>\n      <td>5.133333</td>\n      <td>5.300000</td>\n      <td>5.584211</td>\n      <td>4.700000</td>\n      <td>6.200000</td>\n      <td>4.005882</td>\n      <td>6.000000</td>\n    </tr>\n  </tbody>\n</table>\n<p>25915 rows × 23 columns</p>\n</div>"
     },
     "execution_count": 12,
     "metadata": {},
     "output_type": "execute_result"
    }
   ],
   "source": [
    "df2 = pd.read_pickle('proj5_sensors.pkl')\n",
    "\n",
    "df2rp = df2.pivot(columns='device_id', values='value')\n",
    "freq = str(json_data[\"sensors_periods\"]) + str(json_data[\"sensors_units\"])\n",
    "new_index = pd.date_range(\n",
    "    start=df2rp.index.round(freq).min(),\n",
    "    end=df2rp.index.round(freq).max(),\n",
    "    freq=freq\n",
    ")\n",
    "df2rp = df2rp.reindex(new_index.union(df2rp.index)).interpolate()\n",
    "df2rp = df2rp.reindex(new_index).dropna()\n",
    "df2rp.to_pickle('proj5_ex05.pkl')\n",
    "df2rp"
   ]
  },
  {
   "cell_type": "code",
   "execution_count": 12,
   "id": "ae5f7bef6242a0dd",
   "metadata": {
    "collapsed": false,
    "ExecuteTime": {
     "end_time": "2024-05-23T16:44:01.164386Z",
     "start_time": "2024-05-23T16:44:01.161960Z"
    }
   },
   "outputs": [],
   "source": []
  },
  {
   "cell_type": "code",
   "execution_count": 12,
   "id": "c1054c362661f2cd",
   "metadata": {
    "collapsed": false,
    "ExecuteTime": {
     "end_time": "2024-05-23T16:44:01.168136Z",
     "start_time": "2024-05-23T16:44:01.165396Z"
    }
   },
   "outputs": [],
   "source": []
  }
 ],
 "metadata": {
  "kernelspec": {
   "display_name": "Python 3 (ipykernel)",
   "language": "python",
   "name": "python3"
  },
  "language_info": {
   "codemirror_mode": {
    "name": "ipython",
    "version": 3
   },
   "file_extension": ".py",
   "mimetype": "text/x-python",
   "name": "python",
   "nbconvert_exporter": "python",
   "pygments_lexer": "ipython3",
   "version": "3.12.0"
  }
 },
 "nbformat": 4,
 "nbformat_minor": 5
}
